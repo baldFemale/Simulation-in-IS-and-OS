{
 "cells": [
  {
   "cell_type": "code",
   "execution_count": 32,
   "metadata": {},
   "outputs": [],
   "source": [
    "import numpy as np\n",
    "import matplotlib.pyplot as plt"
   ]
  },
  {
   "cell_type": "markdown",
   "metadata": {},
   "source": [
    "## March 1991 \n",
    "* value of slow learner -> but nobody wants to be a slow learner in an organization -> paradox \n",
    "    * can we solve this paradox? namely agents converge at organization code quickly and meanwhile organization code converge at reality \n",
    "    * the value of slow learner is realized by fast learners \n",
    "    \n",
    "* volitional learner\n",
    "    * below aspiration -> faster learner -> less value creation \n",
    "    * above aspiration -> slower learner -> less value realization \n",
    "  "
   ]
  },
  {
   "cell_type": "code",
   "execution_count": 77,
   "metadata": {},
   "outputs": [],
   "source": [
    "def similarityCount(x1, x2):\n",
    "    res = 0\n",
    "    for cur in range(len(x1)):\n",
    "        if x1[cur]==x2[cur]:\n",
    "            res+=1\n",
    "    return res\n",
    "\n",
    "def get_dominant_belief(xs):\n",
    "    dic = {cur:[0, 0, 0] for cur in range(len(xs[0]))}\n",
    "    \n",
    "    for x in xs:\n",
    "        for cur in range(len(x)):\n",
    "            if x[cur]==-1:\n",
    "                dic[cur][0]+=1\n",
    "            elif x[cur]==0:\n",
    "                dic[cur][1]+=1\n",
    "            else:\n",
    "                dic[cur][2]+=1\n",
    "    res = []\n",
    "    \n",
    "    for cur in range(len(xs[0])):\n",
    "        index = dic[cur].index(max(dic[cur]))\n",
    "        if index==0:\n",
    "            res.append(-1)\n",
    "        elif index==1:\n",
    "            res.append(0)\n",
    "        else:\n",
    "            res.append(1)\n",
    "    return res"
   ]
  },
  {
   "cell_type": "code",
   "execution_count": 135,
   "metadata": {},
   "outputs": [],
   "source": [
    "class Reality:\n",
    "    \n",
    "    def __init__(self, element_num):\n",
    "        self.element_num = element_num\n",
    "        self.state = np.random.choice([-1, 1], self.element_num, p=[0.5, 0.5])\n",
    "    \n",
    "    def change_state(self,):\n",
    "        self.state = np.random.choice([-1, 1], self.element_num, p=[0.5, 0.5])\n",
    "    \n",
    "    \n",
    "class Individual:\n",
    "    \n",
    "    def __init__(self, element_num, p1):\n",
    "        self.element_num = element_num\n",
    "        self.belief = np.random.choice([-1, 0, 1], self.element_num, p=[1/3, 1/3, 1/3])\n",
    "        self.socialization_rate = p1\n",
    "        \n",
    "    def socialization(self, code):\n",
    "        belief = list(self.belief)\n",
    "        \n",
    "        res = []\n",
    "        \n",
    "        if np.random.uniform(0, 1)<0.5:\n",
    "            learn_tag = True\n",
    "        else:\n",
    "            learn_tag = False\n",
    "        \n",
    "        if learn_tag:\n",
    "            for cur in range(len(code)):\n",
    "                if code[cur]==0:\n",
    "                    res.append(belief[cur])\n",
    "                else:\n",
    "                    if np.random.uniform(0, 1) < self.socialization_rate:\n",
    "                        res.append(code[cur])\n",
    "                    else:\n",
    "                        res.append(belief[cur])\n",
    "            self.belief = list(res)\n",
    "    \n",
    "    def volitional_socialization(self, code, peers, upper=0.1, lower=0.9):\n",
    "        social_aspiration = np.mean([similarityCount(individual.belief, code) for individual in peers])\n",
    "        focal_similarity = similarityCount(self.belief, code)\n",
    "        \n",
    "        learn_tag = False\n",
    "        if focal_similarity>social_aspiration:\n",
    "            if np.random.uniform(0, 1) < upper:\n",
    "                learn_tag = True\n",
    "        else:\n",
    "            if np.random.uniform(0, 1) < lower:\n",
    "                learn_tag = True\n",
    "        if learn_tag:\n",
    "            belief = list(self.belief)\n",
    "        \n",
    "            res = []\n",
    "\n",
    "            for cur in range(len(code)):\n",
    "                if code[cur]==0:\n",
    "                    res.append(belief[cur])\n",
    "                else:\n",
    "                    if np.random.uniform(0, 1) < self.socialization_rate:\n",
    "                        res.append(code[cur])\n",
    "                    else:\n",
    "                        res.append(belief[cur])\n",
    "            self.belief = list(res)\n",
    "        \n",
    "class Organization:\n",
    "    \n",
    "    def __init__(self, element_num, individuals, p2):\n",
    "        self.element_num = element_num\n",
    "        self.code = np.random.choice([0], self.element_num)\n",
    "        self.individuals = individuals\n",
    "        self.adaptation_rate = p2\n",
    "        \n",
    "    def calculate_k(self, superior_group):\n",
    "        res = []\n",
    "        for cur in range(self.element_num):\n",
    "            k = 0\n",
    "            \n",
    "            for individual in superior_group:\n",
    "                if individual.belief[cur]==self.code[cur]:\n",
    "                    k-=1\n",
    "                else:\n",
    "                    k+=1\n",
    "            res.append(k)\n",
    "        return res\n",
    "    \n",
    "    def turnover(self, p3):\n",
    "        \n",
    "        individuals = list(self.individuals)\n",
    "        socialization_rate = individuals[0].socialization_rate\n",
    "        res = []\n",
    "        for cur in range(len(individuals)):\n",
    "            if np.random.uniform(0, 1) < p3:\n",
    "                res.append(Individual(30, socialization_rate))\n",
    "            else:\n",
    "                res.append(individuals[cur])\n",
    "        self.individuals = list(res)\n",
    "        \n",
    "        \n",
    "    def adaptation(self, reality_code):\n",
    "        \n",
    "        organization_similarity = similarityCount(self.code, reality_code)\n",
    "        \n",
    "        superior_group = []\n",
    "        \n",
    "        for individual in self.individuals:\n",
    "            \n",
    "            individual_similarity = similarityCount(individual.belief, reality_code)\n",
    "            \n",
    "            if individual_similarity > organization_similarity:\n",
    "                superior_group.append(individual)\n",
    "\n",
    "        if len(superior_group)==0:\n",
    "            return\n",
    "        else:\n",
    "            dominant_belief = get_dominant_belief([individual.belief for individual in superior_group])\n",
    "            \n",
    "        ks = self.calculate_k(superior_group)\n",
    "            \n",
    "        code = list(self.code)\n",
    "        \n",
    "        res = []\n",
    "        \n",
    "        for cur in range(len(code)):\n",
    "\n",
    "            if np.random.uniform(0, 1)>pow((1-self.adaptation_rate),ks[cur]):\n",
    "                res.append(dominant_belief[cur])\n",
    "            else:\n",
    "                res.append(code[cur])\n",
    "        self.code = list(res)\n",
    "        \n",
    "    def knowledge_equivalence(self, reality_code):\n",
    "        \n",
    "        res = 0\n",
    "        \n",
    "        for cur in range(len(self.code)):\n",
    "            if self.code[cur]==reality_code[cur]:\n",
    "                res+=1\n",
    "        return res/len(self.code)\n",
    "        "
   ]
  },
  {
   "cell_type": "code",
   "execution_count": 136,
   "metadata": {},
   "outputs": [
    {
     "name": "stdout",
     "output_type": "stream",
     "text": [
      "0.1 0.1\n",
      "0.1 0.5\n",
      "0.1 0.9\n",
      "0.2 0.1\n",
      "0.2 0.5\n",
      "0.2 0.9\n",
      "0.3 0.1\n",
      "0.3 0.5\n",
      "0.3 0.9\n",
      "0.4 0.1\n",
      "0.4 0.5\n",
      "0.4 0.9\n",
      "0.5 0.1\n",
      "0.5 0.5\n",
      "0.5 0.9\n",
      "0.6 0.1\n",
      "0.6 0.5\n",
      "0.6 0.9\n",
      "0.7 0.1\n",
      "0.7 0.5\n",
      "0.7 0.9\n",
      "0.8 0.1\n",
      "0.8 0.5\n",
      "0.8 0.9\n",
      "0.9 0.1\n",
      "0.9 0.5\n",
      "0.9 0.9\n"
     ]
    }
   ],
   "source": [
    "ress = []\n",
    "\n",
    "for p1 in [0.1, 0.2, 0.3, 0.4, 0.5, 0.6, 0.7, 0.8, 0.9]:\n",
    "    for p2 in [0.1, 0.5, 0.9]:\n",
    "        \n",
    "        print(p1, p2)\n",
    "\n",
    "        repeat_res = []\n",
    "\n",
    "        for repeat in range(80):\n",
    "\n",
    "            reality = Reality(30)\n",
    "            individuals = []\n",
    "            for cur in range(50):\n",
    "                individuals.append(Individual(30, p1))\n",
    "            organization = Organization(30, individuals, p2)\n",
    "\n",
    "            long_res = []\n",
    "\n",
    "            for period in range(100):\n",
    "\n",
    "                for individual in organization.individuals:\n",
    "                    individual.socialization(organization.code)\n",
    "                organization.adaptation(reality.state)\n",
    "                long_res.append(organization.knowledge_equivalence(reality.state))\n",
    "            repeat_res.append(long_res)\n",
    "        ress.append(repeat_res)\n",
    "        "
   ]
  },
  {
   "cell_type": "code",
   "execution_count": null,
   "metadata": {},
   "outputs": [],
   "source": [
    "# volitional_socialization(self, code, peers, upper=0.1, lower=0.9)"
   ]
  },
  {
   "cell_type": "code",
   "execution_count": 124,
   "metadata": {},
   "outputs": [
    {
     "name": "stdout",
     "output_type": "stream",
     "text": [
      "0.1 0.1\n",
      "0.1 0.5\n",
      "0.1 0.9\n",
      "0.2 0.1\n",
      "0.2 0.5\n",
      "0.2 0.9\n",
      "0.3 0.1\n",
      "0.3 0.5\n",
      "0.3 0.9\n",
      "0.4 0.1\n",
      "0.4 0.5\n",
      "0.4 0.9\n",
      "0.5 0.1\n",
      "0.5 0.5\n",
      "0.5 0.9\n",
      "0.6 0.1\n",
      "0.6 0.5\n",
      "0.6 0.9\n",
      "0.7 0.1\n",
      "0.7 0.5\n",
      "0.7 0.9\n",
      "0.8 0.1\n",
      "0.8 0.5\n",
      "0.8 0.9\n",
      "0.9 0.1\n",
      "0.9 0.5\n",
      "0.9 0.9\n"
     ]
    }
   ],
   "source": [
    "ress_volitional = []\n",
    "\n",
    "for p1 in [0.1, 0.2, 0.3, 0.4, 0.5, 0.6, 0.7, 0.8, 0.9]:\n",
    "    for p2 in [0.1, 0.5, 0.9]:\n",
    "        \n",
    "        print(p1, p2)\n",
    "\n",
    "        repeat_res = []\n",
    "\n",
    "        for repeat in range(80):\n",
    "\n",
    "            reality = Reality(30)\n",
    "            individuals = []\n",
    "            for cur in range(50):\n",
    "                individuals.append(Individual(30, p1))\n",
    "            organization = Organization(30, individuals, p2)\n",
    "\n",
    "            long_res = []\n",
    "\n",
    "            for period in range(100):\n",
    "\n",
    "                for individual_index, individual in enumerate(organization.individuals):\n",
    "                    individual.volitional_socialization(\n",
    "                        organization.code, [organization.individuals[cur] for cur in range(50) if cur!=individual_index]\n",
    "                    )\n",
    "                organization.adaptation(reality.state)\n",
    "                long_res.append(organization.knowledge_equivalence(reality.state))\n",
    "            repeat_res.append(long_res)\n",
    "        ress_volitional.append(repeat_res)\n",
    "        "
   ]
  },
  {
   "cell_type": "markdown",
   "metadata": {},
   "source": [
    "####  Learning Speed"
   ]
  },
  {
   "cell_type": "code",
   "execution_count": 137,
   "metadata": {},
   "outputs": [
    {
     "data": {
      "text/plain": [
       "<matplotlib.legend.Legend at 0x7f677c0004e0>"
      ]
     },
     "execution_count": 137,
     "metadata": {},
     "output_type": "execute_result"
    },
    {
     "data": {
      "image/png": "[encoded data removed]",
      "text/plain": [
       "<Figure size 432x288 with 1 Axes>"
      ]
     },
     "metadata": {
      "needs_background": "light"
     },
     "output_type": "display_data"
    }
   ],
   "source": [
    "for p2 in range(3):\n",
    "    temp = []\n",
    "    for p1 in range(9):\n",
    "        index = p1*3 + p2\n",
    "        \n",
    "        temp.append(np.mean(np.array(ress[index])[:, -1], axis=(0)))\n",
    "    plt.plot(temp, label=str(p2))\n",
    "plt.legend()\n",
    "        "
   ]
  },
  {
   "cell_type": "code",
   "execution_count": 138,
   "metadata": {},
   "outputs": [
    {
     "data": {
      "text/plain": [
       "<matplotlib.legend.Legend at 0x7f677baa0518>"
      ]
     },
     "execution_count": 138,
     "metadata": {},
     "output_type": "execute_result"
    },
    {
     "data": {
      "image/png": "[encoded data removed]",
      "text/plain": [
       "<Figure size 432x288 with 1 Axes>"
      ]
     },
     "metadata": {
      "needs_background": "light"
     },
     "output_type": "display_data"
    }
   ],
   "source": [
    "for p2 in range(3):\n",
    "    temp = []\n",
    "    for p1 in range(9):\n",
    "        index = p1*3 + p2\n",
    "        \n",
    "        temp.append(np.mean(np.array(ress_volitional[index])[:, -1], axis=(0)))\n",
    "    plt.plot(temp, label=str(p2))\n",
    "plt.legend()"
   ]
  },
  {
   "cell_type": "code",
   "execution_count": 139,
   "metadata": {},
   "outputs": [
    {
     "data": {
      "text/plain": [
       "<matplotlib.legend.Legend at 0x7f677b9f1ac8>"
      ]
     },
     "execution_count": 139,
     "metadata": {},
     "output_type": "execute_result"
    },
    {
     "data": {
      "image/png": "[encoded data removed]",
      "text/plain": [
       "<Figure size 432x288 with 1 Axes>"
      ]
     },
     "metadata": {
      "needs_background": "light"
     },
     "output_type": "display_data"
    }
   ],
   "source": [
    "for p2 in range(3):\n",
    "    temp = []\n",
    "    for p1 in range(9):\n",
    "        index = p1*3 + p2\n",
    "        \n",
    "        temp.append(\n",
    "            np.mean(np.array(ress_volitional[index])[:, -1], axis=(0))-np.mean(np.array(ress[index])[:, -1], axis=(0))\n",
    "        )\n",
    "    plt.plot(temp, label=str(p2))\n",
    "plt.legend()"
   ]
  },
  {
   "cell_type": "code",
   "execution_count": 128,
   "metadata": {},
   "outputs": [
    {
     "name": "stdout",
     "output_type": "stream",
     "text": [
      "0.1\n",
      "0.2\n",
      "0.3\n",
      "0.4\n",
      "0.5\n",
      "0.6\n",
      "0.7\n",
      "0.8\n",
      "0.9\n"
     ]
    }
   ],
   "source": [
    "ress_hetero = []\n",
    "\n",
    "for p1 in [0.1, 0.2, 0.3, 0.4, 0.5, 0.6, 0.7, 0.8, 0.9]:\n",
    "    for p2 in [0.5,]:\n",
    "        \n",
    "        print(p1)\n",
    "        \n",
    "        proportion_y = (p1*10-1)/8\n",
    "        proportion_x = 1-proportion_y\n",
    "        \n",
    "        type_x = int(50*proportion_x)\n",
    "\n",
    "        repeat_res = []\n",
    "\n",
    "        for repeat in range(80):\n",
    "\n",
    "            reality = Reality(30)\n",
    "            individuals = []\n",
    "            for cur in range(50):\n",
    "                if cur < type_x:\n",
    "                    individuals.append(Individual(30, 0.1))\n",
    "                else:\n",
    "                    individuals.append(Individual(30, 0.9))\n",
    "            organization = Organization(30, individuals, p2)\n",
    "\n",
    "            long_res = []\n",
    "\n",
    "            for period in range(100):\n",
    "\n",
    "                for individual in organization.individuals:\n",
    "                    individual.socialization(organization.code)\n",
    "                organization.adaptation(reality.state)\n",
    "                long_res.append(organization.knowledge_equivalence(reality.state))\n",
    "            repeat_res.append(long_res)\n",
    "        ress_hetero.append(repeat_res)"
   ]
  },
  {
   "cell_type": "code",
   "execution_count": 129,
   "metadata": {},
   "outputs": [
    {
     "name": "stdout",
     "output_type": "stream",
     "text": [
      "0.1\n",
      "0.2\n",
      "0.3\n",
      "0.4\n",
      "0.5\n",
      "0.6\n",
      "0.7\n",
      "0.8\n",
      "0.9\n"
     ]
    }
   ],
   "source": [
    "ress_volitional_hetero = []\n",
    "\n",
    "for p1 in [0.1, 0.2, 0.3, 0.4, 0.5, 0.6, 0.7, 0.8, 0.9]:\n",
    "    for p2 in [0.5,]:\n",
    "        \n",
    "        print(p1)\n",
    "        \n",
    "        proportion_y = (p1*10-1)/8\n",
    "        proportion_x = 1-proportion_y\n",
    "        \n",
    "        type_x = int(50*proportion_x)\n",
    "\n",
    "        repeat_res = []\n",
    "\n",
    "        for repeat in range(80):\n",
    "\n",
    "            reality = Reality(30)\n",
    "            individuals = []\n",
    "            for cur in range(50):\n",
    "                if cur < type_x:\n",
    "                    individuals.append(Individual(30, 0.1))\n",
    "                else:\n",
    "                    individuals.append(Individual(30, 0.9))\n",
    "            organization = Organization(30, individuals, p2)\n",
    "\n",
    "            long_res = []\n",
    "\n",
    "            for period in range(100):\n",
    "\n",
    "                for individual_index, individual in enumerate(organization.individuals):\n",
    "                    individual.volitional_socialization(\n",
    "                        organization.code, [organization.individuals[cur] for cur in range(50) if cur!=individual_index]\n",
    "                    )\n",
    "                organization.adaptation(reality.state)\n",
    "                long_res.append(organization.knowledge_equivalence(reality.state))\n",
    "            repeat_res.append(long_res)\n",
    "        ress_volitional_hetero.append(repeat_res)"
   ]
  },
  {
   "cell_type": "code",
   "execution_count": 131,
   "metadata": {},
   "outputs": [
    {
     "data": {
      "text/plain": [
       "<matplotlib.legend.Legend at 0x7f677c159cf8>"
      ]
     },
     "execution_count": 131,
     "metadata": {},
     "output_type": "execute_result"
    },
    {
     "data": {
      "image/png": "[encoded data removed]",
      "text/plain": [
       "<Figure size 432x288 with 1 Axes>"
      ]
     },
     "metadata": {
      "needs_background": "light"
     },
     "output_type": "display_data"
    }
   ],
   "source": [
    "for p2 in range(1, 2):\n",
    "    temp = []\n",
    "    for p1 in range(9):\n",
    "        index = p1*3 + p2\n",
    "        \n",
    "        temp.append(np.mean(np.array(ress_volitional[index])[:, -1], axis=(0)))\n",
    "    plt.plot(temp, label=\"homogeneous\")\n",
    "temp = []\n",
    "for p1 in range(9):\n",
    "    temp.append(np.mean(np.array(ress_volitional_hetero[p1])[:, -1], axis=(0)))\n",
    "plt.plot(temp, label=\"heterogeneous\")\n",
    "plt.legend()"
   ]
  },
  {
   "cell_type": "markdown",
   "metadata": {},
   "source": [
    "#### Homogeneous Learners"
   ]
  },
  {
   "cell_type": "code",
   "execution_count": 130,
   "metadata": {},
   "outputs": [
    {
     "data": {
      "text/plain": [
       "<matplotlib.legend.Legend at 0x7f677d012978>"
      ]
     },
     "execution_count": 130,
     "metadata": {},
     "output_type": "execute_result"
    },
    {
     "data": {
      "image/png": "[encoded data removed]",
      "text/plain": [
       "<Figure size 432x288 with 1 Axes>"
      ]
     },
     "metadata": {
      "needs_background": "light"
     },
     "output_type": "display_data"
    }
   ],
   "source": [
    "for p2 in range(1, 2):\n",
    "    temp = []\n",
    "    for p1 in range(9):\n",
    "        index = p1*3 + p2\n",
    "        \n",
    "        temp.append(np.mean(np.array(ress[index])[:, -1], axis=(0)))\n",
    "    plt.plot(temp, label=\"homogeneous\")\n",
    "temp = []\n",
    "for p1 in range(9):\n",
    "    temp.append(np.mean(np.array(ress_hetero[p1])[:, -1], axis=(0)))\n",
    "plt.plot(temp, label=\"heterogeneous\")\n",
    "plt.legend()\n",
    "        "
   ]
  },
  {
   "cell_type": "code",
   "execution_count": 108,
   "metadata": {},
   "outputs": [
    {
     "name": "stdout",
     "output_type": "stream",
     "text": [
      "0.1 0\n",
      "0.1 0.1\n",
      "0.1 0.2\n",
      "0.1 0.3\n",
      "0.1 0.4\n",
      "0.1 0.5\n",
      "0.1 0.6\n",
      "0.1 0.7\n",
      "0.1 0.8\n",
      "0.1 0.9\n",
      "0.9 0\n",
      "0.9 0.1\n",
      "0.9 0.2\n",
      "0.9 0.3\n",
      "0.9 0.4\n",
      "0.9 0.5\n",
      "0.9 0.6\n",
      "0.9 0.7\n",
      "0.9 0.8\n",
      "0.9 0.9\n"
     ]
    }
   ],
   "source": [
    "ress_turnover = []\n",
    "\n",
    "for p1 in [0.1, 0.9]:\n",
    "    for p3 in [0, 0.1, 0.2, 0.3, 0.4, 0.5, 0.6, 0.7, 0.8, 0.9]:\n",
    "        \n",
    "        print(p1, p3)\n",
    "\n",
    "        repeat_res = []\n",
    "\n",
    "        for repeat in range(80):\n",
    "\n",
    "            reality = Reality(30)\n",
    "            individuals = []\n",
    "            for cur in range(50):\n",
    "                individuals.append(Individual(30, p1))\n",
    "                    \n",
    "            organization = Organization(30, individuals, 0.5)\n",
    "\n",
    "            long_res = []\n",
    "\n",
    "            for period in range(100):\n",
    "                \n",
    "                organization.turnover(p3)\n",
    "                \n",
    "                for individual in organization.individuals:\n",
    "                    individual.socialization(organization.code)\n",
    "                organization.adaptation(reality.state)\n",
    "                \n",
    "                long_res.append(organization.knowledge_equivalence(reality.state))\n",
    "\n",
    "                repeat_res.append(long_res)\n",
    "        ress_turnover.append(repeat_res)"
   ]
  },
  {
   "cell_type": "code",
   "execution_count": 111,
   "metadata": {},
   "outputs": [
    {
     "data": {
      "text/plain": [
       "20"
      ]
     },
     "execution_count": 111,
     "metadata": {},
     "output_type": "execute_result"
    }
   ],
   "source": [
    "len(ress_turnover)"
   ]
  },
  {
   "cell_type": "markdown",
   "metadata": {},
   "source": [
    "####  turnover"
   ]
  },
  {
   "cell_type": "code",
   "execution_count": 116,
   "metadata": {},
   "outputs": [
    {
     "data": {
      "image/png": "[encoded data removed]",
      "text/plain": [
       "<Figure size 432x288 with 1 Axes>"
      ]
     },
     "metadata": {
      "needs_background": "light"
     },
     "output_type": "display_data"
    }
   ],
   "source": [
    "for p1 in range(2):\n",
    "    temp = []\n",
    "    for p3 in range(10):\n",
    "        index = p1*10 + p3        \n",
    "        temp.append(np.mean(np.array(ress_turnover[index])[:, 50], axis=(0)))\n",
    "    plt.plot(temp)"
   ]
  },
  {
   "cell_type": "code",
   "execution_count": 121,
   "metadata": {},
   "outputs": [
    {
     "name": "stdout",
     "output_type": "stream",
     "text": [
      "0 0.02\n",
      "0.1 0.02\n"
     ]
    }
   ],
   "source": [
    "ress_turbulence = []\n",
    "\n",
    "for p3 in [0, 0.1]:\n",
    "    for p4 in [0.02]:\n",
    "        \n",
    "        print(p3, p4)\n",
    "\n",
    "        repeat_res = []\n",
    "\n",
    "        for repeat in range(80):\n",
    "\n",
    "            reality = Reality(30)\n",
    "            individuals = []\n",
    "            for cur in range(50):\n",
    "                individuals.append(Individual(30, 0.5))\n",
    "                    \n",
    "            organization = Organization(30, individuals, 0.5)\n",
    "\n",
    "            long_res = []\n",
    "\n",
    "            for period in range(100):\n",
    "                \n",
    "                if np.random.uniform(0, 1)<p4:\n",
    "                    reality.change_state()\n",
    "                organization.turnover(p3)\n",
    "                \n",
    "                for individual in organization.individuals:\n",
    "                    individual.socialization(organization.code)\n",
    "                organization.adaptation(reality.state)\n",
    "                \n",
    "                long_res.append(organization.knowledge_equivalence(reality.state))\n",
    "\n",
    "                repeat_res.append(long_res)\n",
    "\n",
    "        ress_turbulence.append(repeat_res)"
   ]
  },
  {
   "cell_type": "code",
   "execution_count": 133,
   "metadata": {},
   "outputs": [
    {
     "name": "stdout",
     "output_type": "stream",
     "text": [
      "0 0.02\n",
      "0.1 0.02\n"
     ]
    }
   ],
   "source": [
    "ress_volitional_turbulence = []\n",
    "\n",
    "for p3 in [0, 0.1]:\n",
    "    for p4 in [0.02]:\n",
    "        \n",
    "        print(p3, p4)\n",
    "\n",
    "        repeat_res = []\n",
    "\n",
    "        for repeat in range(80):\n",
    "\n",
    "            reality = Reality(30)\n",
    "            individuals = []\n",
    "            for cur in range(50):\n",
    "                individuals.append(Individual(30, 0.5))\n",
    "                    \n",
    "            organization = Organization(30, individuals, 0.5)\n",
    "\n",
    "            long_res = []\n",
    "\n",
    "            for period in range(100):\n",
    "                \n",
    "                if np.random.uniform(0, 1)<p4:\n",
    "                    reality.change_state()\n",
    "                organization.turnover(p3)\n",
    "                \n",
    "                for individual_index, individual in enumerate(organization.individuals):\n",
    "                    individual.volitional_socialization(\n",
    "                        organization.code, [organization.individuals[cur] for cur in range(50) if cur!=individual_index]\n",
    "                    )\n",
    "                    \n",
    "                organization.adaptation(reality.state)\n",
    "                \n",
    "                long_res.append(organization.knowledge_equivalence(reality.state))\n",
    "\n",
    "                repeat_res.append(long_res)\n",
    "\n",
    "        ress_volitional_turbulence.append(repeat_res)"
   ]
  },
  {
   "cell_type": "markdown",
   "metadata": {},
   "source": [
    "#### turbulence"
   ]
  },
  {
   "cell_type": "code",
   "execution_count": 122,
   "metadata": {},
   "outputs": [
    {
     "data": {
      "image/png": "[encoded data removed]",
      "text/plain": [
       "<Figure size 432x288 with 1 Axes>"
      ]
     },
     "metadata": {
      "needs_background": "light"
     },
     "output_type": "display_data"
    }
   ],
   "source": [
    "for index in range(2):\n",
    "    plt.plot(np.mean(np.array(ress_turbulence[index]),axis=0))"
   ]
  },
  {
   "cell_type": "code",
   "execution_count": 134,
   "metadata": {},
   "outputs": [
    {
     "data": {
      "image/png": "[encoded data removed]",
      "text/plain": [
       "<Figure size 432x288 with 1 Axes>"
      ]
     },
     "metadata": {
      "needs_background": "light"
     },
     "output_type": "display_data"
    }
   ],
   "source": [
    "for index in range(2):\n",
    "    plt.plot(np.mean(np.array(ress_volitional_turbulence[index]),axis=0))"
   ]
  },
  {
   "cell_type": "code",
   "execution_count": null,
   "metadata": {},
   "outputs": [],
   "source": []
  }
 ],
 "metadata": {
  "kernelspec": {
   "display_name": "Python 3",
   "language": "python",
   "name": "python3"
  },
  "language_info": {
   "codemirror_mode": {
    "name": "ipython",
    "version": 3
   },
   "file_extension": ".py",
   "mimetype": "text/x-python",
   "name": "python",
   "nbconvert_exporter": "python",
   "pygments_lexer": "ipython3",
   "version": "3.5.2"
  }
 },
 "nbformat": 4,
 "nbformat_minor": 2
}
