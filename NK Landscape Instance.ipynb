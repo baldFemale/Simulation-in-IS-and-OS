{
 "cells": [
  {
   "cell_type": "code",
   "execution_count": 7,
   "id": "4be7315c",
   "metadata": {},
   "outputs": [],
   "source": [
    "import numpy as np\n",
    "from collections import defaultdict\n",
    "import matplotlib.pyplot as plt"
   ]
  },
  {
   "cell_type": "code",
   "execution_count": 1,
   "id": "6a24e4a6",
   "metadata": {},
   "outputs": [],
   "source": [
    "class LandScape():\n",
    "\n",
    "    def __init__(self, N, K, K_within, K_between):\n",
    "        self.N = N\n",
    "        self.K = K\n",
    "        self.K_within = K_within\n",
    "        self.K_between = K_between\n",
    "        self.IM, self.IM_dic = None, None\n",
    "        self.FC = None\n",
    "        self.cache = {}\n",
    "        self.cog_cache = {}\n",
    "\n",
    "    def create_influence_matrix(self):\n",
    "        IM = np.eye(self.N)\n",
    "        if self.K_within is None:\n",
    "            for i in range(self.N):\n",
    "                probs = [1 / (self.N - 1)] * i + [0] + [1 / (self.N - 1)] * (self.N - 1 - i)\n",
    "                ids = np.random.choice(self.N, self.K, p=probs, replace=False)\n",
    "                for index in ids:\n",
    "                    IM[i][index] = 1\n",
    "        else:\n",
    "            for i in range(self.N):\n",
    "                if i // (self.N // 2) < 1:\n",
    "                    within = [j for j in range(self.N // 2)]\n",
    "                    between = [j for j in range(self.N // 2, self.N)]\n",
    "                    probs = [1 / (self.N // 2 - 1)] * i + [0] + [1 / (self.N // 2 - 1)] * (self.N // 2 - 1 - i)\n",
    "                    ids_within = np.random.choice(within, self.K_within, p=probs, replace=False)\n",
    "                    ids_between = np.random.choice(between, self.K_between, replace=False)\n",
    "                    for index in ids_within:\n",
    "                        IM[i][index] = 1\n",
    "                    for index in ids_between:\n",
    "                        IM[i][index] = 1\n",
    "\n",
    "                else:\n",
    "                    within = [j for j in range(self.N // 2, self.N)]\n",
    "                    between = [j for j in range(self.N // 2)]\n",
    "                    probs = [1 / (self.N // 2 - 1)] * (i - self.N // 2) + [0] + [1 / (self.N // 2 - 1)] * (\n",
    "                                self.N - 1 - i)\n",
    "                    ids_between = np.random.choice(between, self.K_between, replace=False)\n",
    "                    ids_within = np.random.choice(within, self.K_within, p=probs, replace=False)\n",
    "                    for index in ids_within:\n",
    "                        IM[i][index] = 1\n",
    "                    for index in ids_between:\n",
    "                        IM[i][index] = 1\n",
    "\n",
    "        IM_dic = defaultdict(list)\n",
    "        for i in range(len(IM)):\n",
    "            for j in range(len(IM[0])):\n",
    "                if i == j or IM[i][j] == 0:\n",
    "                    continue\n",
    "                else:\n",
    "                    IM_dic[i].append(j)\n",
    "        self.IM, self.IM_dic = IM, IM_dic\n",
    "\n",
    "    def create_fitness_config(self,):\n",
    "        FC = defaultdict(dict)\n",
    "        for row in range(len(self.IM)):\n",
    "\n",
    "            k = int(sum(self.IM[row]))\n",
    "            for i in range(pow(2, k)):\n",
    "                FC[row][i] = np.random.uniform(0, 1)\n",
    "        self.FC = FC\n",
    "\n",
    "\n",
    "    def calculate_fitness(self, state):\n",
    "        res = 0.0\n",
    "        for i in range(len(state)):\n",
    "            dependency = self.IM_dic[i]\n",
    "            bin_index = \"\".join([str(state[j]) for j in dependency])\n",
    "            if state[i] == 0:\n",
    "                bin_index = \"0\" + bin_index\n",
    "            else:\n",
    "                bin_index = \"1\" + bin_index\n",
    "            index = int(bin_index, 2)\n",
    "            res += self.FC[i][index]\n",
    "        return res / len(state)\n",
    "\n",
    "    def store_cache(self,):\n",
    "        for i in range(pow(2,self.N)):\n",
    "            bit = bin(i)[2:]\n",
    "            if len(bit)<self.N:\n",
    "                bit = \"0\"*(self.N-len(bit))+bit\n",
    "            state = [int(cur) for cur in bit]\n",
    "            self.cache[bit] = self.calculate_fitness(state)\n",
    "\n",
    "\n",
    "    def initialize(self, first_time=True, norm=True):\n",
    "        if first_time:\n",
    "            self.create_influence_matrix()\n",
    "        self.create_fitness_config()\n",
    "        self.store_cache()\n",
    "\n",
    "        # normalization\n",
    "        if norm:\n",
    "            normalizor = max(self.cache.values())\n",
    "            min_normalizor = min(self.cache.values())\n",
    "\n",
    "            for k in self.cache.keys():\n",
    "                self.cache[k] = (self.cache[k]-min_normalizor)/(normalizor-min_normalizor)\n",
    "        self.cog_cache = {}\n",
    "\n",
    "    def query_fitness(self, state):\n",
    "        bit = \"\".join([str(state[i]) for i in range(len(state))])\n",
    "        return self.cache[bit]\n",
    "\n",
    "    def query_cog_fitness(self, state, knowledge_sapce):\n",
    "        remainder = [cur for cur in range(self.N) if cur not in knowledge_sapce]\n",
    "        regular_expression = \"\".join(str(state[i]) if i in knowledge_sapce else \"*\" for i in range(len(state)))\n",
    "        if regular_expression in self.cog_cache:\n",
    "            return self.cog_cache[regular_expression]\n",
    "\n",
    "        remain_length = len(remainder)\n",
    "        res = 0\n",
    "        for i in range(pow(2, remain_length)):\n",
    "            bit = bin(i)[2:]\n",
    "            if len(bit)<remain_length:\n",
    "                bit = \"0\"*(remain_length-len(bit))+bit\n",
    "            temp_state = list(state)\n",
    "\n",
    "            for j in range(remain_length):\n",
    "                temp_state[remainder[j]] = int(bit[j])\n",
    "            res+=self.query_fitness(temp_state)\n",
    "        res = 1.0*res/pow(2, remain_length)\n",
    "        self.cog_cache[regular_expression] = res\n",
    "\n",
    "        return res\n"
   ]
  },
  {
   "cell_type": "code",
   "execution_count": 4,
   "id": "edc97b29",
   "metadata": {},
   "outputs": [],
   "source": [
    "class Agent:\n",
    "    \n",
    "    def __init__(self, N, landscape):\n",
    "        self.N = N\n",
    "        self.state = np.random.choice([0, 1], self.N).tolist()\n",
    "        self.landscape = landscape\n",
    "        self.fitness = self.landscape.query_fitness(self.state)\n",
    "        \n",
    "    def adaptation(self, ):\n",
    "        \n",
    "        temp_state = list(self.state)\n",
    "        choice = np.random.choice(self.N)\n",
    "        temp_state[choice]^=1\n",
    "        \n",
    "        if self.landscape.query_fitness(self.state)<self.landscape.query_fitness(temp_state):\n",
    "            self.state = temp_state\n",
    "            self.fitness = self.landscape.query_fitness(temp_state)"
   ]
  },
  {
   "cell_type": "code",
   "execution_count": 8,
   "id": "ed5b1039",
   "metadata": {},
   "outputs": [],
   "source": [
    "N = 4\n",
    "ress = []\n",
    "for k in range(4):\n",
    "    \n",
    "    res = []\n",
    "    landscape = LandScape(N, k, None, None)\n",
    "    landscape.initialize()\n",
    "    \n",
    "    for repeat in range(20):\n",
    "        fitness = []\n",
    "        agent = Agent(N, landscape)\n",
    "        for step in range(100):\n",
    "            agent.adaptation()\n",
    "            fitness.append(agent.fitness)\n",
    "        res.append(fitness)\n",
    "    ress.append(res)"
   ]
  },
  {
   "cell_type": "code",
   "execution_count": 11,
   "id": "e705d669",
   "metadata": {},
   "outputs": [
    {
     "data": {
      "image/png": "[encoded data removed]",
      "text/plain": [
       "<Figure size 432x288 with 1 Axes>"
      ]
     },
     "metadata": {
      "needs_background": "light"
     },
     "output_type": "display_data"
    }
   ],
   "source": [
    "for k in range(4):\n",
    "    plt.plot(np.mean(np.array(ress[k]),axis=0))"
   ]
  },
  {
   "cell_type": "code",
   "execution_count": 10,
   "id": "d4a25399",
   "metadata": {},
   "outputs": [
    {
     "data": {
      "text/plain": [
       "(20, 100)"
      ]
     },
     "execution_count": 10,
     "metadata": {},
     "output_type": "execute_result"
    }
   ],
   "source": [
    "np.array(ress[0])"
   ]
  },
  {
   "cell_type": "code",
   "execution_count": null,
   "id": "8ac5e4b0",
   "metadata": {},
   "outputs": [],
   "source": []
  }
 ],
 "metadata": {
  "kernelspec": {
   "display_name": "Python 3",
   "language": "python",
   "name": "python3"
  },
  "language_info": {
   "codemirror_mode": {
    "name": "ipython",
    "version": 3
   },
   "file_extension": ".py",
   "mimetype": "text/x-python",
   "name": "python",
   "nbconvert_exporter": "python",
   "pygments_lexer": "ipython3",
   "version": "3.6.9"
  }
 },
 "nbformat": 4,
 "nbformat_minor": 5
}
