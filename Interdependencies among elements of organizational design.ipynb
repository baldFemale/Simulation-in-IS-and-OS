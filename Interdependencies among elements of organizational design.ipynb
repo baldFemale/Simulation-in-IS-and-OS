{
 "cells": [
  {
   "cell_type": "markdown",
   "metadata": {},
   "source": [
    "### Intro\n",
    "* A replication for Rivkin's paper [Balancing Search and Stability: Interdependencies Among Elements of Organizational Design](https://pubsonline.informs.org/doi/abs/10.1287/mnsc.49.3.290.12740?journalCode=mnsc) on Management Science in 2003. \n",
    "* Organization elements:\n",
    "    1. Vertical hierarchy, a CEO sit about a set of departments\n",
    "    2. Incentive system, managers may be rewarded on the basis of overall firm performance or on the performance of individual departments\n",
    "    3. Decomposition, the nature of assigning decision rights in a way that places related decisions under a single manager\n",
    "* Contextual variables:\n",
    "    1. The underlying pattern of interaction among a firm's decisions\n",
    "    2. Limits on the ability of managers\n",
    "* This study focuses on the interdependencies among theses five elements in a firm"
   ]
  },
  {
   "cell_type": "markdown",
   "metadata": {},
   "source": [
    "### NK model  \n",
    "###### Representation\n",
    "* Vertical hierarchy is classified into two categories:  \n",
    "    1. rubberstamping CEO, the decision makeing is totally decentralized\n",
    "    2. active CEO, the CEO requires P sub decisions from manager A and P another sub decisions from manager B, CEO selects from P^2 combination. CEO has limit ability, it is represented by the cardinality of configuration examed by CEO, $$AltCEO$$ \n",
    "* Incentive system is represented by the knowledge to configuration table, that is, a manager motivated by the whole firm perfomance would take all decisions' contribution into consideration when choose from alternatives. Manager's evaluation of configuration could be notated as \n",
    "$$\n",
    "P^{'}(d) = \\{[C_2(d),C_3(d),C_4(d),C_5(d)] + Incent*[C_1(d),C_6(d)]\\}/6,\\\\ where\\ the\\ manager\\ would\\ not\\ take\\ the\\ contribution\\ of\\ c_1\\ and\\ c_6\\ when\\ incent==0\n",
    "$$\n",
    "* Decomposition is represented by the allocation of decisions,e.g.,decision 2-5 belong to manager B while decision 1 and decision 6 belong to manager A in a firm with total 6 decisions, so the decision allocation is abbbba.\n",
    "* The underlying pattern of interaction among a firm's decisions is represented by the level of K and the pattern of influence matrix in NK model\n",
    "* Manager ability is represented by the cardinality of alternatives configuration considered by managers, \n",
    "$$ AltSub $$\n",
    "* Information flow is represented by the cardinality of proposals come to CEO in the settings of vertical hierarchy"
   ]
  },
  {
   "cell_type": "markdown",
   "metadata": {},
   "source": [
    "### Simulation"
   ]
  },
  {
   "cell_type": "code",
   "execution_count": 1,
   "metadata": {},
   "outputs": [],
   "source": [
    "import numpy as np\n",
    "import matplotlib.pyplot as plt\n",
    "from collections import defaultdict"
   ]
  },
  {
   "cell_type": "code",
   "execution_count": 2,
   "metadata": {},
   "outputs": [],
   "source": [
    "def createInfluenceMatrix(N,K,K_within=None,K_between=None):\n",
    "    IM = np.eye(N)\n",
    "    if not K_within:\n",
    "        for i in range(N):\n",
    "            probs = [1/(N-1)]*i + [0] +[1/(N-1)]*(N-1-i)\n",
    "            ids = np.random.choice(N,K,p=probs,replace=False)\n",
    "            for index in ids:\n",
    "                IM[i][index] = 1\n",
    "    else:\n",
    "        for i in range(N):\n",
    "            if i//(N//2)<1:\n",
    "                within = [j for j in range(N//2)]\n",
    "                between = [j for j in range(N//2,N)]\n",
    "                probs = [1/(N//2-1)]*i+[0]+[1/(N//2-1)]*(N//2-1-i)\n",
    "                ids_within = np.random.choice(within,K_within,p=probs,replace=False)\n",
    "                ids_between = np.random.choice(between,K_between,replace=False)\n",
    "                for index in ids_within:\n",
    "                    IM[i][index] = 1\n",
    "                for index in ids_between:\n",
    "                    IM[i][index] = 1\n",
    "                    \n",
    "            else:\n",
    "                within = [j for j in range(N//2,N)]\n",
    "                between = [j for j in range(N//2)]\n",
    "                probs = [1/(N//2-1)]*(i-N//2)+[0]+[1/(N//2-1)]*(N-1-i)\n",
    "                ids_between = np.random.choice(between,K_between,replace=False)\n",
    "                ids_within = np.random.choice(within,K_within,p=probs,replace=False)\n",
    "                for index in ids_within:\n",
    "                    IM[i][index] = 1\n",
    "                for index in ids_between:\n",
    "                    IM[i][index] = 1\n",
    "                    \n",
    "    IM_dic = defaultdict(list)\n",
    "    for i in range(len(IM)):\n",
    "        for j in range(len(IM[0])):\n",
    "            if i==j or IM[i][j]==0:\n",
    "                continue\n",
    "            else:\n",
    "                IM_dic[i].append(j)\n",
    "    return IM,IM_dic"
   ]
  },
  {
   "cell_type": "code",
   "execution_count": 3,
   "metadata": {},
   "outputs": [],
   "source": [
    "def createFitnessConfig(IM):\n",
    "    FC = defaultdict(dict)\n",
    "    for row in range(len(IM)):\n",
    "        k = int(sum(IM[row]))\n",
    "        for i in range(pow(2,k)):\n",
    "            FC[row][i] = np.random.uniform(0,1)\n",
    "    return FC"
   ]
  },
  {
   "cell_type": "code",
   "execution_count": 152,
   "metadata": {},
   "outputs": [],
   "source": [
    "def calculate_Fitness(state,IM_dic,FitnessConfig,idx=None):\n",
    "    if not idx:\n",
    "        res = 0.0\n",
    "        for i in range(len(state)):\n",
    "            dependency = IM_dic[i]\n",
    "            bin_index = \"\".join([str(state[j]) for j in dependency])\n",
    "            if state[i]==0:\n",
    "                bin_index = \"0\" + bin_index\n",
    "            else:\n",
    "                bin_index = \"1\" + bin_index\n",
    "            index = int(bin_index,2)\n",
    "            res+=FitnessConfig[i][index]\n",
    "        return res/len(state)\n",
    "    else:\n",
    "        res = 0.0\n",
    "        for i in range(len(idx)):\n",
    "            dependency = IM_dic[i]\n",
    "            bin_index = \"\".join([str(state[j]) for j in dependency])\n",
    "            if state[i]==0:\n",
    "                bin_index = \"0\" + bin_index\n",
    "            else:\n",
    "                bin_index = \"1\" + bin_index\n",
    "            index = int(bin_index,2)\n",
    "            res+=FitnessConfig[i][index]\n",
    "        return res/len(idx)"
   ]
  },
  {
   "cell_type": "code",
   "execution_count": 153,
   "metadata": {},
   "outputs": [],
   "source": [
    "def initializeState(N):\n",
    "    return np.random.choice([0,1],N)"
   ]
  },
  {
   "cell_type": "code",
   "execution_count": 276,
   "metadata": {},
   "outputs": [],
   "source": [
    "def Subfunction(state,AltSub,Incent,IM_dic,FG,idx,P):\n",
    "    pool_A = []\n",
    "    \n",
    "    if Incent==1:\n",
    "        temp_fitness_value = calculate_Fitness(state,IM_dic,FG)\n",
    "    else:\n",
    "        temp_fitness_value = calculate_Fitness(state,IM_dic,FG,idx)\n",
    "    pool_A.append((list(state),float(temp_fitness_value)))\n",
    "    \n",
    "    \n",
    "\n",
    "    if AltSub==1:\n",
    "        order = np.random.choice(idx,1,replace=False)\n",
    "        AltSub_order = [order]\n",
    "    elif AltSub==4:\n",
    "        order = np.random.choice(idx,2,replace=False)\n",
    "        AltSub_order = [[i] for i in idx]+[order]\n",
    "    elif AltSub==7:\n",
    "        AltSub_order = [[i] for i in idx] + [[idx[0],idx[1]],[idx[0],idx[2]],[idx[1],idx[2]]]+ [idx]\n",
    "    else:\n",
    "        print(\"False!!!!!!!!\")\n",
    "    \n",
    "    for i in range(AltSub):\n",
    "        ids = AltSub_order[i]\n",
    "        temp_state = list(state)\n",
    "        for index in ids:\n",
    "            temp_state[index] = temp_state[index]^1\n",
    "\n",
    "            if Incent==1:\n",
    "                temp_fitness_value = calculate_Fitness(temp_state,IM_dic,FG)\n",
    "            else:\n",
    "                temp_fitness_value = calculate_Fitness(temp_state,IM_dic,FG,idx)\n",
    "            pool_A.append((list(temp_state),float(temp_fitness_value)))\n",
    "    pool_A = sorted(pool_A,key=lambda x:-x[-1])\n",
    "    return pool_A[:P]"
   ]
  },
  {
   "cell_type": "code",
   "execution_count": 177,
   "metadata": {},
   "outputs": [],
   "source": [
    "def reconstruct(A_idx,B_idx,A,B):\n",
    "    l = len(A)\n",
    "    res = [0 for i in range(l)]\n",
    "    \n",
    "    for i in range(len(A_idx)):\n",
    "        res[A_idx[i]] = A[A_idx[i]]\n",
    "    for i in range(len(B_idx)):\n",
    "        res[B_idx[i]] = B[B_idx[i]]\n",
    "    return list(res)"
   ]
  },
  {
   "cell_type": "code",
   "execution_count": 227,
   "metadata": {},
   "outputs": [],
   "source": [
    "def firmAdap(IM,IM_dic,FG,initialState,P,AltCEO,AltSub,allocation,Incent,iteration):\n",
    "    A_idx = []\n",
    "    B_idx = []\n",
    "    for i,a in enumerate(allocation):\n",
    "        if a==\"a\":\n",
    "            A_idx.append(i)\n",
    "        else:\n",
    "            B_idx.append(i)\n",
    "    \n",
    "    state = list(initialState)\n",
    "    fitness_value = calculate_Fitness(state,IM_dic,FG)\n",
    "    res = [fitness_value]\n",
    "    \n",
    "    for step in range(iteration):\n",
    "        # for manager A\n",
    "        pool_A = Subfunction(state,AltSub,Incent,IM_dic,FG,A_idx,P)\n",
    "        # for manager B\n",
    "        pool_B = Subfunction(state,AltSub,Incent,IM_dic,FG,B_idx,P)\n",
    "        # for CEO\n",
    "        if AltCEO==0:\n",
    "            state = reconstruct(A_idx,B_idx,pool_A[0][0],pool_B[0][0])\n",
    "            fitness_value = calculate_Fitness(state,IM_dic,FG)\n",
    "            res.append(fitness_value)\n",
    "        else:\n",
    "            pool_A.append((state,calculate_Fitness(state,IM_dic,FG)))\n",
    "            pool_B.append((state,calculate_Fitness(state,IM_dic,FG)))\n",
    "            idx = np.random.choice(len(pool_A)*len(pool_B),AltCEO,replace=False)\n",
    "            pool_CEO = []\n",
    "            for index in idx:\n",
    "                A_index = index//len(pool_A)\n",
    "                B_index = index%len(pool_B)\n",
    "#                 print(A_index,B_index)\n",
    "                temp_state = reconstruct(A_idx,B_idx,pool_A[A_index][0],pool_B[B_index][0])\n",
    "                temp_fitness_value = calculate_Fitness(temp_state,IM_dic,FG)\n",
    "                pool_CEO.append((list(temp_state),float(temp_fitness_value)))\n",
    "            pool_CEO = sorted(pool_CEO,key=lambda x:-x[-1])\n",
    "            temp_state,temp_fitness_value = pool_CEO[0]\n",
    "            if temp_fitness_value>fitness_value:\n",
    "                fitness_value = temp_fitness_value\n",
    "                state = temp_state\n",
    "            res.append(fitness_value)\n",
    "    return np.array(res)"
   ]
  },
  {
   "cell_type": "markdown",
   "metadata": {},
   "source": [
    "###### Active vs. Passive Vertical Hierarchy and Degree of Interaction  \n",
    "In this experiment, we fix the decision allocation to aaabbb, AltSub=1 and exam the interaction among Information Flow(P), CEO ability(rubberstamping, low ability, high ability) and the interdependencies among decision (K)"
   ]
  },
  {
   "cell_type": "code",
   "execution_count": 269,
   "metadata": {},
   "outputs": [],
   "source": [
    "def Simulation(N,K,landscape_number,K_between=None,K_within=None,epoch=100,Incent=0,AltSub=1):\n",
    "    \"\"\"\n",
    "    four firm differ in terms of information flow (P) and CEO ability (AltCEO) \n",
    "    \"\"\"\n",
    "    IM,IM_dic = createInfluenceMatrix(N,K,K_within,K_between)\n",
    "    resA = []\n",
    "    resB = []\n",
    "    resC = []\n",
    "    resD = []\n",
    "    for landscape in range(landscape_number):\n",
    "        FG = createFitnessConfig(IM)\n",
    "        state = initializeState(N)\n",
    "        \n",
    "        # firmA\n",
    "        stateA = list(state)\n",
    "        resA.append(firmAdap(IM,IM_dic,FG,stateA,1,0,AltSub,\"aaabbb\",Incent,epoch)[-1])\n",
    "        \n",
    "        # firmB\n",
    "        stateB = list(state)\n",
    "        resB.append(firmAdap(IM,IM_dic,FG,stateB,1,1,AltSub,\"aaabbb\",Incent,epoch)[-1])\n",
    "        \n",
    "        # firmC\n",
    "        stateC = list(state)\n",
    "        resC.append(firmAdap(IM,IM_dic,FG,stateC,2,1,AltSub,\"aaabbb\",Incent,epoch)[-1])\n",
    "        \n",
    "        # firmD\n",
    "        stateD = list(state)\n",
    "        resD.append(firmAdap(IM,IM_dic,FG,stateD,1,3,AltSub,\"aaabbb\",Incent,epoch)[-1])\n",
    "        \n",
    "        # firmD\n",
    "    resA = np.array(resA)\n",
    "    resB = np.array(resB)\n",
    "    resC = np.array(resC)\n",
    "    resD = np.array(resD)\n",
    "    return resA,resB,resC,resD"
   ]
  },
  {
   "cell_type": "code",
   "execution_count": 266,
   "metadata": {},
   "outputs": [
    {
     "name": "stdout",
     "output_type": "stream",
     "text": [
      "0.564555410232719 0.5402620668826039 0.555145384534358 0.5639430606331804\n",
      "0.5922490910695429 0.5721363242809336 0.5645429490072573 0.6087869339059325\n",
      "0.5995777647397664 0.584810463608077 0.5804276050047188 0.6218993072782338\n",
      "0.6086543966154936 0.6047304758611172 0.5924246639907019 0.6448291338413356\n",
      "0.6083162445820917 0.6064078686259763 0.5991705719767314 0.6401030470722792\n",
      "0.5945163014009381 0.5984901103069753 0.5933963029920176 0.6312826937712376\n"
     ]
    }
   ],
   "source": [
    "# in the short run -> 4 epoch\n",
    "for k in range(6):\n",
    "    A,B,C,D = Simulation(6,k,1000,epoch=4)\n",
    "    print(np.mean(A),np.mean(B),np.mean(C),np.mean(D))"
   ]
  },
  {
   "cell_type": "code",
   "execution_count": 263,
   "metadata": {},
   "outputs": [
    {
     "name": "stdout",
     "output_type": "stream",
     "text": [
      "0.583622531977713 0.583622531977713 0.6666927049549156 0.583622531977713\n",
      "0.5921993383257563 0.5936423757928062 0.6950516540264088 0.5947553998909124\n",
      "0.6257090742230609 0.6470961436353054 0.7143687618185744 0.6467349331120559\n",
      "0.6407587287886225 0.6646296464662964 0.7143039130232087 0.6680590559633359\n",
      "0.6330990025996882 0.6572090847766128 0.7136334358473088 0.6587648646359425\n",
      "0.6313867738385586 0.6531332396064442 0.7097576937563476 0.658157699840837\n"
     ]
    }
   ],
   "source": [
    "# in the long run -> 100 epoch\n",
    "for k in range(6):\n",
    "    A,B,C,D = Simulation(6,k,1000)\n",
    "    print(np.mean(A),np.mean(B),np.mean(C),np.mean(D))"
   ]
  },
  {
   "cell_type": "markdown",
   "metadata": {},
   "source": [
    "* The main difference between original paper and my replication is the effect of complexity, the original paper reveals a monotonically decrease relation while my replication gets a reversed-U shape\n",
    "* However, the main findings remain same,\n",
    "    1. In the short run, active hierarchy could be harmful but as the complexity/interdependency among decision increases, active hierarchy would be benificial \n",
    "    2. On the long run, we could see active hierarchy would outperform much more than rubberstamping CEO when there is a rich flow of information"
   ]
  },
  {
   "cell_type": "markdown",
   "metadata": {},
   "source": [
    "###### Active Vertical Hierarchy and Managerial Ability  \n",
    "In this experiment, we relax the constraint on AltSub, that is, sub managers of department could have different ability. "
   ]
  },
  {
   "cell_type": "code",
   "execution_count": 278,
   "metadata": {},
   "outputs": [
    {
     "name": "stdout",
     "output_type": "stream",
     "text": [
      "----------AltSub==4--------\n",
      "0.5877005180372205 0.5877005180372205 0.6150228238944683 0.5877005180372205\n",
      "0.6157381326919933 0.644227644452515 0.6835193272102327 0.6497474444538335\n",
      "0.6368852716765556 0.6750914764979685 0.7035757918751974 0.6795260801959437\n",
      "0.6297522595305385 0.6748665360767476 0.714818996067321 0.6837655168674307\n",
      "0.6264609668104015 0.6768914426275792 0.7195615867008834 0.6834282623641972\n",
      "0.602769662898789 0.6730077350068222 0.7138266392590098 0.6801223410322558\n",
      "----------AltSub==7--------\n",
      "0.5827555195371483 0.5827555195371483 0.6128849000191383 0.5827555195371483\n",
      "0.595067213514046 0.6263043195493849 0.659698390575521 0.6305358793353893\n",
      "0.5984239109847372 0.6453251310649296 0.6826074024868326 0.6514674764749929\n",
      "0.570826952668328 0.6689647247161927 0.7100935452594171 0.6774324048105864\n",
      "0.5529994132154524 0.6756249222543893 0.709405138231572 0.685661502485113\n",
      "0.536277028227728 0.665906953701869 0.7028634507941901 0.6759997720221008\n"
     ]
    }
   ],
   "source": [
    "for AltSub in [4,7]:\n",
    "    print(\"----------AltSub==%d--------\"%AltSub)\n",
    "    for k in range(6):\n",
    "        A,B,C,D = Simulation(6,k,1000,AltSub=AltSub)\n",
    "        print(np.mean(A),np.mean(B),np.mean(C),np.mean(D))"
   ]
  },
  {
   "cell_type": "markdown",
   "metadata": {},
   "source": [
    "* Same difference between monotonically decrease function and reversed-U shape still exist\n",
    "* These findings still hold:\n",
    "    1. Hiring smarter managers could undermine firms' performance, especially when decisions richly interact and CEO tubber-stamps decisions  \n",
    "    2. Hiring smarter managers and active hierarchy could be complementary if we regard CEO as a mechanism to integrate\n",
    "    3. Smarter managers could prevent firm to search because it hide search strategy behind its prefered decisions"
   ]
  },
  {
   "cell_type": "markdown",
   "metadata": {},
   "source": [
    "###### Active Vertical Hierarchy and Firm-Wide Incentives  \n",
    "In this experiment, we relax the constraint on Incent, that is, managers would work in order to enhance the performance of the whole firm"
   ]
  },
  {
   "cell_type": "code",
   "execution_count": 279,
   "metadata": {},
   "outputs": [
    {
     "name": "stdout",
     "output_type": "stream",
     "text": [
      "----------AltSub==1--------\n",
      "0.6703710786932211 0.6703710786932211 0.6703710786932211 0.6703710786932211\n",
      "0.6924704511423699 0.6924050029555262 0.6989286061353064 0.6918674031618045\n",
      "0.7087420135819467 0.7061728882401369 0.719090268837966 0.7057648879566574\n",
      "0.6921272940713266 0.69137199148384 0.706917546022417 0.6922811311804358\n",
      "0.6909080583243103 0.6887005304135266 0.7146543656269102 0.6878218714849216\n",
      "0.6811128481131674 0.6785143046179883 0.708966144805103 0.6818314681461273\n",
      "----------AltSub==4--------\n",
      "0.6642959805298165 0.6642959805298165 0.6642959805298165 0.6642959805298165\n",
      "0.6824726911659277 0.6914617162150333 0.694776625205427 0.6932322310012267\n",
      "0.6895829345327388 0.7064209551381575 0.7154011474672466 0.7123697503519925\n",
      "0.7043427531735394 0.7230276753696175 0.7301046667182106 0.7232546309371105\n",
      "0.6930356581442437 0.7197871782295333 0.7263815514530374 0.7213418325366207\n",
      "0.6495511016615609 0.711192725411375 0.7198895336396398 0.7124651466314289\n",
      "----------AltSub==7--------\n",
      "0.6670343472075969 0.6670343472075969 0.6670343472075969 0.6670343472075969\n",
      "0.6546630168869021 0.6981705102972473 0.7046917147341399 0.7029361708716793\n",
      "0.6630026896470884 0.7195260977986582 0.7260658558128921 0.7233115078230401\n",
      "0.600172573828238 0.720790111201318 0.7253125788491291 0.724718412575379\n",
      "0.5692539821143422 0.7165458547174118 0.7250217439828119 0.7210768678236695\n",
      "0.5476884999555975 0.7135826733174381 0.7202999573770718 0.7185603682257751\n"
     ]
    }
   ],
   "source": [
    "for AltSub in [1,4,7]:\n",
    "    print(\"----------AltSub==%d--------\"%AltSub)\n",
    "    for k in range(6):\n",
    "        A,B,C,D = Simulation(6,k,1000,AltSub=AltSub,Incent=1)\n",
    "        print(np.mean(A),np.mean(B),np.mean(C),np.mean(D))"
   ]
  },
  {
   "cell_type": "markdown",
   "metadata": {},
   "source": [
    "* Firm-wide incentives increase firms' overall performance\n",
    "* The following conclusion holds for Altsub=7:\n",
    "    1. Firm-wide incentives and active hierarchy could be complementary, the increasement from active hierarchy is significant greater when Incent equals to 1 compared with Incent equals to 0."
   ]
  },
  {
   "cell_type": "markdown",
   "metadata": {},
   "source": [
    "###### Active Vertical Hierarchy and Decision Decomposition  \n",
    "In this experiment, we relax the assumption about the pattern of complexity (Influence Matrix) and allow it to be diagonal. The allocation,e.g., aaabbb could also be changed to aabbba"
   ]
  },
  {
   "cell_type": "code",
   "execution_count": 280,
   "metadata": {},
   "outputs": [],
   "source": [
    "def Simulation(N,K,landscape_number,K_between=None,K_within=None,epoch=100,Incent=0,AltSub=1):\n",
    "    \"\"\"\n",
    "    four firm differ in terms of information flow (P) and CEO ability (AltCEO) \n",
    "    \"\"\"\n",
    "    IM,IM_dic = createInfluenceMatrix(N,K,K_within,K_between)\n",
    "    resA = []\n",
    "    resB = []\n",
    "    resC = []\n",
    "    resD = []\n",
    "    for landscape in range(landscape_number):\n",
    "        FG = createFitnessConfig(IM)\n",
    "        state = initializeState(N)\n",
    "        \n",
    "        # firmA\n",
    "        stateA = list(state)\n",
    "        resA.append(firmAdap(IM,IM_dic,FG,stateA,1,0,AltSub,\"aaabbb\",Incent,epoch)[-1])\n",
    "        \n",
    "        # firmB\n",
    "        stateB = list(state)\n",
    "        resB.append(firmAdap(IM,IM_dic,FG,stateB,2,3,AltSub,\"aaabbb\",Incent,epoch)[-1])\n",
    "        \n",
    "        # firmC\n",
    "        stateC = list(state)\n",
    "        resC.append(firmAdap(IM,IM_dic,FG,stateC,1,0,AltSub,\"aabbba\",Incent,epoch)[-1])\n",
    "        \n",
    "        # firmD\n",
    "        stateD = list(state)\n",
    "        resD.append(firmAdap(IM,IM_dic,FG,stateD,2,3,AltSub,\"aabbba\",Incent,epoch)[-1])\n",
    "        \n",
    "        # firmD\n",
    "    resA = np.array(resA)\n",
    "    resB = np.array(resB)\n",
    "    resC = np.array(resC)\n",
    "    resD = np.array(resD)\n",
    "    return resA,resB,resC,resD"
   ]
  },
  {
   "cell_type": "code",
   "execution_count": 283,
   "metadata": {},
   "outputs": [
    {
     "name": "stdout",
     "output_type": "stream",
     "text": [
      "0.6012669158753198 0.6926390404669579 0.6014213974859122 0.7240606037093439\n"
     ]
    }
   ],
   "source": [
    "A,B,C,D = Simulation(6,2,1000,K_between=0,K_within=2)\n",
    "print(np.mean(A),np.mean(B),np.mean(C),np.mean(D))"
   ]
  },
  {
   "cell_type": "markdown",
   "metadata": {},
   "source": [
    "* D-C > B-A indicates that active hierarchy is more benifical when the task could not be completel decomposed \n",
    "* The best performance comes from D where there is an active hierarchy and unnecessay overlap, it challenges the conventional wisdom that firms should strive for complete decomposition. "
   ]
  },
  {
   "cell_type": "markdown",
   "metadata": {},
   "source": [
    "### Potential extension  \n",
    "* competition among firms -> once a decision is made, the probability of other firms making same decision in the same industry should be decreased -> cannot stand on local peak together. The decision of search and stablization of other firms is visiable in online context (e.g.,APPLE STORE).\n",
    "* this paper assume equal ability of subs, however the reality is subs with more ability get promotion and make more decisions/ earn more freedom\n",
    "* short-run v.s. long-run performance indicates the importance of speed in analysis. \n",
    "* what about extending the decision space -> new area"
   ]
  },
  {
   "cell_type": "code",
   "execution_count": null,
   "metadata": {},
   "outputs": [],
   "source": []
  }
 ],
 "metadata": {
  "kernelspec": {
   "display_name": "Python 3",
   "language": "python",
   "name": "python3"
  },
  "language_info": {
   "codemirror_mode": {
    "name": "ipython",
    "version": 3
   },
   "file_extension": ".py",
   "mimetype": "text/x-python",
   "name": "python",
   "nbconvert_exporter": "python",
   "pygments_lexer": "ipython3",
   "version": "3.7.3"
  }
 },
 "nbformat": 4,
 "nbformat_minor": 2
}
