{
 "cells": [
  {
   "cell_type": "markdown",
   "metadata": {},
   "source": [
    "### Intro\n",
    "* Replication for paper [Hoping for A to Z While Rewarding Only A: Complex Organizations and Multiple Goals](https://pubsonline.informs.org/doi/10.1287/orsc.1080.0358) by S.Ethiraj and D.Levinthal on OS in 2009.\n",
    "* Research question comes from:\n",
    "  1. Empirical finding on the negative relation between multiple goals and organization performance\n",
    "  2. The reality that most organizations still have multiple goals\n",
    "  3. How to alleviate the paradox\n",
    "* Multiple goals:\n",
    "  1. Different individuals face different intermediate goals, e.g. reducing manufacture cost,increasing customer loyalty. A single individual face multiple intermediate goals, e.g. manufacture department is required to enhance productivity of current product and to invest on new production line. \n",
    "  2. The map function between action and goal is not an one-to-one function but a one-to-many function, e.g. action to increase productivity of current product would potentially harm the R&D of new products.  \n",
    "  3. Individuals can hardly integrate different goals into one measurable scale. \n",
    "* Proposed stategy:\n",
    "  1. myopic strategy -> only focus on single goal and ignore remains\n",
    "  2. spatial separation strategy -> each department focuses on one goal\n",
    "  3. temporal separation strategy -> the whole organization focuses on one goal and switch to other goals periodically"
   ]
  },
  {
   "cell_type": "markdown",
   "metadata": {},
   "source": [
    "### NK model\n",
    "###### Notation\n",
    "\\begin{array}{c}\n",
    "\\ firm\\ decision\\ space\\ f=\\{d_1,d_2,...d_N\\}\\\\\n",
    "\\ firm\\ performance\\ goals\\ G=\\{p_1,p_2,...p_G\\}\\\\\n",
    "\\ performance\\ contribution\\ for\\ ith\\ decision\\ on\\ gth\\ goal\\ w_{ig}=w_{ig}(d_i;D_i)\\\\\n",
    "\\ firm\\ performance\\ on\\ gth\\ goal\\ \\Omega_g = \\frac{1}{N} \\sum_{i=1}^N w_{ig}(d_i;D_i)\\\\\n",
    "\\ firm\\ performance\\ \\Omega = \\frac{1}{G} \\sum_{g=1}^G \\Omega_g\n",
    "\\end{array}\n",
    "###### Performance Improvement through action\n",
    "$$\n",
    "d_{j(t+1)}=\\begin{cases}\n",
    "d^{'}_{jt},&if\\ \\Omega^{'}_{gt} > \\Omega_{gt} \\\\ \n",
    "d_{jt},&otherwise \\\\\n",
    "\\end{cases} \n",
    "\\forall g=\\{1,...,G\\}\n",
    "\\tag{4.2}\n",
    "$$  \n",
    "###### Organization structures \n",
    "$$\n",
    "M\\ departments, each\\ department\\ has\\ N/M\\ decision:\\\\\n",
    "m_k = \\{d_{(k-1)(N/M)+1}...d_{k(N/M)}\\}\\\\\n",
    "R\\ interdependecies\\ are\\ added\\ and\\ make\\ sure\\ within-deparment\\ interdependencies\\ are\\ greater\\ than\\ between-department\\ interdependencies.\\ For\\ those\\ organizations\\ with\\ low\\ R\\ values,\\ we\\ regard\\ them\\ as\\ simple\\ organizations.\\ Otherwise\\ they\\ are\\ complex\\ organizations\\\\\n",
    "$$\n",
    "###### Strategy \n",
    "1. Temporal separation strategy, managerical actions are evaluated for their efficacy based on deparmental performance improvement\n",
    "$$\n",
    "d_{j(t+1)}=\\begin{cases}\n",
    "d^{'}_{jt},&if\\ \\Omega^{'}_{pt(k)} > \\Omega_{pt(k)} \\\\ \n",
    "d_{jt},&otherwise \\\\\n",
    "\\end{cases} \n",
    "\\tag{4.4}\n",
    "$$\n",
    "2. Myopia strategy, a special case for temporal separation strategy where goal never changes\n",
    "3. Spatial separation strategy, a special case for temporal separation strategy where goals are assigned to each depatment and remain unchanged"
   ]
  },
  {
   "cell_type": "markdown",
   "metadata": {},
   "source": [
    "### Simulation"
   ]
  },
  {
   "cell_type": "code",
   "execution_count": 194,
   "metadata": {},
   "outputs": [],
   "source": [
    "import numpy as np\n",
    "import matplotlib.pyplot as plt\n",
    "import math\n",
    "from collections import defaultdict"
   ]
  },
  {
   "cell_type": "code",
   "execution_count": 90,
   "metadata": {},
   "outputs": [],
   "source": [
    "def createInfluenceMatrix(decisionNum, departmentNum,inDepartmentInterdependenceNum, \n",
    "                          betweenDepartInterdependenceNum):\n",
    "    decisions = [[j*(decisionNum//departmentNum)+i for i in range(decisionNum//departmentNum)] \n",
    "                 for j in range(departmentNum)]\n",
    "    flat_decisions = [i for i in range(decisionNum)]\n",
    "\n",
    "    withinDependency = []\n",
    "    betweenDependency = []\n",
    "    \n",
    "    for d in decisions:\n",
    "        for i in range(len(d)):\n",
    "            for j in range(len(d)):\n",
    "                if i==j:\n",
    "                    continue\n",
    "                else:\n",
    "                    withinDependency.append((d[i],d[j]))\n",
    "    \n",
    "    temp = set(withinDependency)\n",
    "    for i in range(len(flat_decisions)):\n",
    "        for j in range(len(flat_decisions)):\n",
    "            if i==j or (flat_decisions[i],flat_decisions[j]) in temp:\n",
    "                continue\n",
    "            else:\n",
    "                betweenDependency.append((flat_decisions[i],flat_decisions[j]))\n",
    "                \n",
    "    \n",
    "    within_index = np.random.choice([i for i in range(len(withinDependency))], \n",
    "                                    inDepartmentInterdependenceNum, replace=False)\n",
    "    between_Index = np.random.choice([i for i in range(len(betweenDependency))], \n",
    "                                     betweenDepartInterdependenceNum, replace=False)\n",
    "    \n",
    "    IM = np.eye(decisionNum)\n",
    "    \n",
    "    for index in within_index:\n",
    "        x,y = withinDependency[index]\n",
    "        IM[x][y] = 1\n",
    "    for index in between_Index:\n",
    "        x,y = betweenDependency[index]\n",
    "        IM[x][y] = 1\n",
    "        \n",
    "    IM_dic = defaultdict(list)\n",
    "    for i in range(len(IM)):\n",
    "        for j in range(len(IM[0])):\n",
    "            if i==j or IM[i][j]==0:\n",
    "                continue\n",
    "            else:\n",
    "                IM_dic[i].append(j)\n",
    "    return IM,IM_dic"
   ]
  },
  {
   "cell_type": "code",
   "execution_count": 85,
   "metadata": {},
   "outputs": [],
   "source": [
    "def createFitnessConfig(IM, goalNum):\n",
    "    FC = []\n",
    "    for goal in range(goalNum):\n",
    "        temp_FC = defaultdict(dict)\n",
    "        for row in range(len(IM)):\n",
    "            k = int(sum(IM[row]))\n",
    "            for i in range(pow(2,k)):\n",
    "                temp_FC[row][i] = np.random.uniform(0,1)\n",
    "        FC.append(temp_FC)\n",
    "    return FC"
   ]
  },
  {
   "cell_type": "code",
   "execution_count": 103,
   "metadata": {},
   "outputs": [],
   "source": [
    "FC = createFitnessConfig(IM,1)"
   ]
  },
  {
   "cell_type": "code",
   "execution_count": 136,
   "metadata": {},
   "outputs": [],
   "source": [
    "def calculate_Fitness(state,IM_dic,FitnessConfig):\n",
    "    res = 0.0\n",
    "    for i in range(len(state)):\n",
    "        dependency = IM_dic[i]\n",
    "        bin_index = \"\".join([str(state[j]) for j in dependency])\n",
    "        if state[i]==0:\n",
    "            bin_index = \"0\" + bin_index\n",
    "        else:\n",
    "            bin_index = \"1\" + bin_index\n",
    "        index = int(bin_index,2)\n",
    "        res+=FitnessConfig[i][index]\n",
    "    return res/len(state)"
   ]
  },
  {
   "cell_type": "code",
   "execution_count": 131,
   "metadata": {},
   "outputs": [],
   "source": [
    "def initializeState(decisionNum):\n",
    "    return np.random.choice([0,1],decisionNum)"
   ]
  },
  {
   "cell_type": "code",
   "execution_count": 132,
   "metadata": {},
   "outputs": [],
   "source": [
    "s = initializeState(24)"
   ]
  },
  {
   "cell_type": "markdown",
   "metadata": {},
   "source": [
    "###### Baseline  \n",
    "Randomly choose a department to take random action in each period and adpot the action if the fitness level follows formula 4.2"
   ]
  },
  {
   "cell_type": "code",
   "execution_count": 142,
   "metadata": {},
   "outputs": [],
   "source": [
    "def baselineSimulation(decisionNum, departmentNum,inDepartmentInterdependenceNum, betweenDepartInterdependenceNum, \n",
    "                       goalNum, agentNum, iteration):\n",
    "    res = []\n",
    "    for agent in range(agentNum):\n",
    "        temp_res = []\n",
    "        IM,IM_dic = createInfluenceMatrix(decisionNum,departmentNum,inDepartmentInterdependenceNum,\n",
    "                                          betweenDepartInterdependenceNum)\n",
    "        FCs = createFitnessConfig(IM,goalNum)\n",
    "        state = initializeState(decisionNum)\n",
    "        \n",
    "        temp_res.append(np.mean([calculate_Fitness(state,IM_dic,FCs[goal]) for goal in range(goalNum)]))\n",
    "        \n",
    "        for step in range(iteration):\n",
    "            # local search for baseline\n",
    "            temp_state = list(state)\n",
    "            decision_index = np.random.choice([i for i in range(decisionNum)],1)[0]\n",
    "            temp_state[decision_index] = temp_state[decision_index]^1\n",
    "            tag = True\n",
    "            for goal in range(goalNum):\n",
    "                if calculate_Fitness(state,IM_dic,FCs[goal])>calculate_Fitness(temp_state,IM_dic,FCs[goal]):\n",
    "                    tag = False\n",
    "                    break\n",
    "            if tag:\n",
    "                state = temp_state\n",
    "            temp_res.append(np.mean([calculate_Fitness(state,IM_dic,FCs[goal]) for goal in range(goalNum)]))\n",
    "        res.append(temp_res)\n",
    "    return np.array(res)"
   ]
  },
  {
   "cell_type": "code",
   "execution_count": 150,
   "metadata": {},
   "outputs": [],
   "source": [
    "res = baselineSimulation(24,4,0,0,8,250,250)"
   ]
  },
  {
   "cell_type": "code",
   "execution_count": 154,
   "metadata": {},
   "outputs": [],
   "source": [
    "baseline_simple_org = [np.mean(baselineSimulation(24,4,0,0,i,250,250),axis=0)[-1] for i in [1,2,4,8]]\n",
    "baseline_complex_org = [np.mean(baselineSimulation(24,4,90,30,i,250,250),axis=0)[-1] for i in [1,2,4,8]]"
   ]
  },
  {
   "cell_type": "code",
   "execution_count": 173,
   "metadata": {},
   "outputs": [
    {
     "data": {
      "image/png": "[encoded data removed]",
      "text/plain": [
       "<Figure size 432x288 with 1 Axes>"
      ]
     },
     "metadata": {
      "needs_background": "light"
     },
     "output_type": "display_data"
    }
   ],
   "source": [
    "labels = [\"one goal\", \"two goals\", \"four goals\", \"eight goals\"]\n",
    "x = np.arange(len(labels))\n",
    "width = 0.35\n",
    "fig, ax = plt.subplots()\n",
    "rects1 = ax.bar(x-width/2, baseline_complex_org, width, label=\"complex\")\n",
    "rects2 = ax.bar(x+width/2, baseline_simple_org, width, label=\"simple\")\n",
    "\n",
    "ax.set_title(\"Comparison of simple and complex organizations with multiple goals\")\n",
    "ax.set_ylabel(\"Average performance\")\n",
    "ax.set_ylim(ymin=0.4)\n",
    "ax.set_xticks(x)\n",
    "ax.set_xticklabels(labels)\n",
    "ax.legend()\n",
    "plt.show()"
   ]
  },
  {
   "cell_type": "markdown",
   "metadata": {},
   "source": [
    "###### Intuition from baseline\n",
    "* As the number of goals increases, the likelihood that an action will reduce at least one performance goal also increases and thus reduces the probability of engaging in performance improvement efforts.\n",
    "* Interdependencies across decisions in the complex organization act to perturb the organization and get it off inferior local peaks. This beneﬁt, however, disappears with an increase in the number of goals, suggesting that the effect of number of goals swamps the effect of decision interdependence in organizations.\n",
    "* **Coordination challenges do exist in organizations!**"
   ]
  },
  {
   "cell_type": "markdown",
   "metadata": {},
   "source": [
    "###### Myopia strategy\n",
    "Randomly fix a goal for the whole organization. In each epoch, randomly choose a department to take action and the action would be adopted if the fitness level follows formula 4.4"
   ]
  },
  {
   "cell_type": "code",
   "execution_count": 163,
   "metadata": {},
   "outputs": [],
   "source": [
    "def myopiaSimulation(decisionNum, departmentNum,inDepartmentInterdependenceNum, betweenDepartInterdependenceNum, \n",
    "                       goalNum, agentNum, iteration):\n",
    "    res = []\n",
    "    for agent in range(agentNum):\n",
    "        temp_res = []\n",
    "        IM,IM_dic = createInfluenceMatrix(decisionNum,departmentNum,inDepartmentInterdependenceNum,\n",
    "                                          betweenDepartInterdependenceNum)\n",
    "        FCs = createFitnessConfig(IM,goalNum)\n",
    "        state = initializeState(decisionNum)\n",
    "        \n",
    "        temp_res.append(np.mean([calculate_Fitness(state,IM_dic,FCs[goal]) for goal in range(goalNum)]))\n",
    "        \n",
    "        fixed_goal = np.random.choice([i for i in range(goalNum)],1)[0]\n",
    "        \n",
    "        for step in range(iteration):\n",
    "            # local search for myopia strategy\n",
    "            temp_state = list(state)\n",
    "            decision_index = np.random.choice([i for i in range(decisionNum)],1)[0]\n",
    "            temp_state[decision_index] = temp_state[decision_index]^1\n",
    "            \n",
    "            if calculate_Fitness(state, IM_dic, FCs[fixed_goal])<calculate_Fitness(\n",
    "                temp_state, IM_dic, FCs[fixed_goal]):\n",
    "                state = temp_state\n",
    "            temp_res.append(np.mean([calculate_Fitness(state,IM_dic,FCs[goal]) for goal in range(goalNum)]))\n",
    "        res.append(temp_res)\n",
    "    return np.array(res)"
   ]
  },
  {
   "cell_type": "code",
   "execution_count": 165,
   "metadata": {},
   "outputs": [],
   "source": [
    "res = myopiaSimulation(24,4,90,30,8,250,250)"
   ]
  },
  {
   "cell_type": "code",
   "execution_count": 168,
   "metadata": {},
   "outputs": [],
   "source": [
    "myopia_complex_org = [np.mean(myopiaSimulation(24,4,90,30,i,250,250),axis=0)[-1] for i in [1,2,4,8]]"
   ]
  },
  {
   "cell_type": "code",
   "execution_count": 172,
   "metadata": {},
   "outputs": [
    {
     "data": {
      "image/png": "[encoded data removed]",
      "text/plain": [
       "<Figure size 432x288 with 1 Axes>"
      ]
     },
     "metadata": {
      "needs_background": "light"
     },
     "output_type": "display_data"
    }
   ],
   "source": [
    "labels = [\"one goal\", \"two goals\", \"four goals\", \"eight goals\"]\n",
    "x = np.arange(len(labels))\n",
    "width = 0.35\n",
    "fig, ax = plt.subplots()\n",
    "rects1 = ax.bar(x-width/2, baseline_complex_org, width, label=\"baseline\")\n",
    "rects2 = ax.bar(x+width/2, myopia_complex_org, width, label=\"myopia\")\n",
    "\n",
    "ax.set_title(\"Comparison of myopia in complex organization\")\n",
    "ax.set_ylabel(\"Average performance\")\n",
    "ax.set_ylim(ymin=0.4)\n",
    "ax.set_xticks(x)\n",
    "ax.set_xticklabels(labels)\n",
    "ax.legend()\n",
    "plt.show()"
   ]
  },
  {
   "cell_type": "markdown",
   "metadata": {},
   "source": [
    "###### Intuition from myopia\n",
    "* Focusing on only one goal in evaluating incremental search attempts helps break the conﬂicting constraints that emanate from trying to satisfy multiple goals, thus helping overcome the status quo trap. \n",
    "* As the number of ignored goals increases, however, the overall improvement from focusing on a single goal declines considerably."
   ]
  },
  {
   "cell_type": "markdown",
   "metadata": {},
   "source": [
    "###### Spatial separation strategy\n",
    "Assign certain (one or two) goal to a department and adopt department level action based on formula 4.4"
   ]
  },
  {
   "cell_type": "code",
   "execution_count": 189,
   "metadata": {},
   "outputs": [],
   "source": [
    "def spatialSimulation(decisionNum, departmentNum,inDepartmentInterdependenceNum, betweenDepartInterdependenceNum, \n",
    "                       goalNum, agentNum, iteration):\n",
    "    res = []\n",
    "    for agent in range(agentNum):\n",
    "        temp_res = []\n",
    "        IM,IM_dic = createInfluenceMatrix(decisionNum,departmentNum,inDepartmentInterdependenceNum,\n",
    "                                          betweenDepartInterdependenceNum)\n",
    "        FCs = createFitnessConfig(IM,goalNum)\n",
    "        state = initializeState(decisionNum)\n",
    "        \n",
    "        temp_res.append(np.mean([calculate_Fitness(state,IM_dic,FCs[goal]) for goal in range(goalNum)]))\n",
    "        \n",
    "        # goal assignment\n",
    "        goals = np.random.choice([i for i in range(goalNum)],goalNum,replace=False)\n",
    "        goal_for_each_depart = goalNum//departmentNum\n",
    "        \n",
    "        for step in range(iteration):\n",
    "            # local search for spatial separation strategy\n",
    "            \n",
    "            temp_state = list(state)\n",
    "            \n",
    "            decision_index = np.random.choice(\n",
    "                [i for i in range(decisionNum)],1)[0]\n",
    "            temp_state[decision_index] = temp_state[decision_index]^1\n",
    "            department = decision_index//(decisionNum//departmentNum)\n",
    "            \n",
    "            tag = True\n",
    "            for goal in goals[department*goal_for_each_depart:(department+1)*goal_for_each_depart]:\n",
    "                if calculate_Fitness(state,IM_dic,FCs[goal])>calculate_Fitness(temp_state,IM_dic,FCs[goal]):\n",
    "                    tag = False\n",
    "                    break\n",
    "            if tag:\n",
    "                state = temp_state\n",
    "                \n",
    "            temp_res.append(np.mean([calculate_Fitness(state,IM_dic,FCs[goal]) for goal in range(goalNum)]))\n",
    "        res.append(temp_res)\n",
    "    return np.array(res)"
   ]
  },
  {
   "cell_type": "code",
   "execution_count": 185,
   "metadata": {},
   "outputs": [],
   "source": [
    "res = spatialSimulation(24,4,90,30,8,250,250)"
   ]
  },
  {
   "cell_type": "code",
   "execution_count": 190,
   "metadata": {},
   "outputs": [],
   "source": [
    "spatial_complex_org = [np.mean(spatialSimulation(24,4,90,30,i,250,250),axis=0)[-1] for i in [4,8]]"
   ]
  },
  {
   "cell_type": "code",
   "execution_count": 193,
   "metadata": {},
   "outputs": [
    {
     "data": {
      "image/png": "[encoded data removed]",
      "text/plain": [
       "<Figure size 432x288 with 1 Axes>"
      ]
     },
     "metadata": {
      "needs_background": "light"
     },
     "output_type": "display_data"
    }
   ],
   "source": [
    "labels = [\"four goals (one goal per dept)\", \"eight goals (two goal per dept)\"]\n",
    "x = np.arange(len(labels))\n",
    "width = 0.35\n",
    "fig, ax = plt.subplots()\n",
    "rects1 = ax.bar(x-width/2, baseline_complex_org[2:], width, label=\"baseline\")\n",
    "rects2 = ax.bar(x+width/2, spatial_complex_org, width, label=\"spatial\")\n",
    "\n",
    "ax.set_title(\"Comparison of spatial in complex organization\")\n",
    "ax.set_ylabel(\"Average performance\")\n",
    "ax.set_ylim(ymin=0.4)\n",
    "ax.set_xticks(x)\n",
    "ax.set_xticklabels(labels)\n",
    "ax.legend()\n",
    "plt.show()"
   ]
  },
  {
   "cell_type": "markdown",
   "metadata": {},
   "source": [
    "###### Intuition from spatial\n",
    "* Even though one department’s actions can undermine the performance goals of other departments, the myopic actions of each department are sufﬁcient to improve the average performance of the ﬁrm on all goals."
   ]
  },
  {
   "cell_type": "markdown",
   "metadata": {},
   "source": [
    "###### Temporal separation strategy\n",
    "* the whole organization would focus on one goal and switch to other goals periodically"
   ]
  },
  {
   "cell_type": "code",
   "execution_count": 220,
   "metadata": {},
   "outputs": [],
   "source": [
    "def temporalSimulation(decisionNum, departmentNum,inDepartmentInterdependenceNum, betweenDepartInterdependenceNum, \n",
    "                       goalNum, agentNum, iteration):\n",
    "    res = []\n",
    "    for agent in range(agentNum):\n",
    "        temp_res = []\n",
    "        IM,IM_dic = createInfluenceMatrix(decisionNum,departmentNum,inDepartmentInterdependenceNum,\n",
    "                                          betweenDepartInterdependenceNum)\n",
    "        FCs = createFitnessConfig(IM,goalNum)\n",
    "        state = initializeState(decisionNum)\n",
    "        \n",
    "        temp_res.append(np.mean([calculate_Fitness(state,IM_dic,FCs[goal]) for goal in range(goalNum)]))\n",
    "        \n",
    "        # goal order\n",
    "        epoch = math.ceil(iteration//goalNum)\n",
    "        if epoch*goalNum<iteration:\n",
    "            epoch+=1\n",
    "        \n",
    "        for step in range(iteration):\n",
    "            # local search for temporal separation strategy\n",
    "            \n",
    "            temp_state = list(state)\n",
    "            \n",
    "            decision_index = np.random.choice(\n",
    "                [i for i in range(decisionNum)],1)[0]\n",
    "            temp_state[decision_index] = temp_state[decision_index]^1\n",
    "            goal_index = step//epoch\n",
    "            \n",
    "            if calculate_Fitness(state, IM_dic, FCs[goal_index])<calculate_Fitness(\n",
    "                temp_state, IM_dic, FCs[goal_index]):\n",
    "                state = temp_state\n",
    "            temp_res.append(np.mean([calculate_Fitness(state,IM_dic,FCs[goal]) for goal in range(goalNum)]))\n",
    "        res.append(temp_res)\n",
    "    return np.array(res)"
   ]
  },
  {
   "cell_type": "code",
   "execution_count": 209,
   "metadata": {},
   "outputs": [],
   "source": [
    "res = temporalSimulation(24,4,90,30,8,250,250)"
   ]
  },
  {
   "cell_type": "code",
   "execution_count": 221,
   "metadata": {},
   "outputs": [],
   "source": [
    "temporal_complex_org = [np.mean(temporalSimulation(24,4,90,30,i,250,250),axis=0) for i in [4,8]]"
   ]
  },
  {
   "cell_type": "code",
   "execution_count": 222,
   "metadata": {},
   "outputs": [
    {
     "data": {
      "text/plain": [
       "(251,)"
      ]
     },
     "execution_count": 222,
     "metadata": {},
     "output_type": "execute_result"
    }
   ],
   "source": [
    "temporal_complex_org[0].shape"
   ]
  },
  {
   "cell_type": "code",
   "execution_count": 215,
   "metadata": {},
   "outputs": [],
   "source": [
    "baseline_complex_org_seq = [np.mean(baselineSimulation(24,4,90,30,i,250,250),axis=0) for i in [4,8]]"
   ]
  },
  {
   "cell_type": "code",
   "execution_count": 230,
   "metadata": {},
   "outputs": [
    {
     "data": {
      "image/png": "[encoded data removed]",
      "text/plain": [
       "<Figure size 432x288 with 1 Axes>"
      ]
     },
     "metadata": {
      "needs_background": "light"
     },
     "output_type": "display_data"
    }
   ],
   "source": [
    "plt.plot(temporal_complex_org[0],label=\"Four sequential goals\")\n",
    "plt.plot(temporal_complex_org[1],label=\"Eight sequential goals\")\n",
    "plt.plot(baseline_complex_org_seq[0],label=\"Four goals (baseline)\")\n",
    "plt.plot(baseline_complex_org_seq[1],label=\"Eight goals (baseline)\")\n",
    "plt.xlim(0)\n",
    "plt.title(\"Comparing temporal differentiation of goals in complex organization\")\n",
    "plt.ylabel(\"Average performance\")\n",
    "plt.legend()\n",
    "plt.show()"
   ]
  },
  {
   "cell_type": "markdown",
   "metadata": {},
   "source": [
    "###### Intuition from temporal separation strategy\n",
    "* Temporal differentiation of goals results in significant overall ﬁrm performance improvement across all G goals.\n",
    "* Firm has reached a local peak on the assigned performance goal, and a shift to a new performance goal triggers a fall in overall ﬁrm performance, primarily due to a performance decline on the prior goal.\n",
    "* The process of local search to generate performance improvement on a complex performance landscape is extremely slow, and 32 simulation periods is insufﬁcient to generate signiﬁcant performance improvement."
   ]
  },
  {
   "cell_type": "markdown",
   "metadata": {},
   "source": [
    "### Possible Extension\n",
    "* Establish a multiple goal perspective, but goals only have weak correaltion with each other.\n",
    "* Alleviate the paradox on a strategy (goal setting) level, maybe we could solve the paradox on individual/department level, e.g. coordination, common interest & goals. \n",
    "* Further investigation on organization structure?\n",
    "* Interorganizational phenomenon based on multiple goals?"
   ]
  },
  {
   "cell_type": "code",
   "execution_count": null,
   "metadata": {},
   "outputs": [],
   "source": []
  }
 ],
 "metadata": {
  "kernelspec": {
   "display_name": "Python 3",
   "language": "python",
   "name": "python3"
  },
  "language_info": {
   "codemirror_mode": {
    "name": "ipython",
    "version": 3
   },
   "file_extension": ".py",
   "mimetype": "text/x-python",
   "name": "python",
   "nbconvert_exporter": "python",
   "pygments_lexer": "ipython3",
   "version": "3.7.3"
  }
 },
 "nbformat": 4,
 "nbformat_minor": 2
}
