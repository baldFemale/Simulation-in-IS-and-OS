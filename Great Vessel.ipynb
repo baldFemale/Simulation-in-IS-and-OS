{
 "cells": [
  {
   "cell_type": "code",
   "execution_count": 1,
   "metadata": {},
   "outputs": [],
   "source": [
    "import numpy as np \n",
    "from collections import defaultdict\n",
    "\n",
    "import time \n",
    "\n",
    "import matplotlib.pyplot as plt\n",
    "import seaborn as sns"
   ]
  },
  {
   "cell_type": "code",
   "execution_count": 88,
   "metadata": {},
   "outputs": [],
   "source": [
    "class Strategy:\n",
    "    \n",
    "    def __init__(self, M, V):\n",
    "        self.M = M\n",
    "        self.V = V\n",
    "        \n",
    "    def generate_strategy(self, ):\n",
    "        return np.random.normal(self.M, self.V)\n",
    "    \n",
    "    def update_M(self, M):\n",
    "        self.M = M\n",
    "\n",
    "class Firm:\n",
    "    def __init__(\n",
    "        self, idx=0, explore_capability=0, exploit_capability=0.8, lr_explore=0.1, lr_exploit=0.1, \n",
    "        fr_explore=0.02, fr_exploit=0.02, uncertainty=10, M=100, V=25\n",
    "    ):\n",
    "        self.idx=idx\n",
    "        self.explore_capability = explore_capability\n",
    "        self.exploit_capability = exploit_capability\n",
    "        \n",
    "        self.initial_explore_capability = float(self.explore_capability)\n",
    "        self.initial_exploit_capability = float(self.exploit_capability)\n",
    "        \n",
    "        self.lr_explore = lr_explore\n",
    "        self.lr_exploit = lr_exploit\n",
    "        self.fr_explore = fr_explore\n",
    "        self.fr_exploit = fr_exploit\n",
    "        \n",
    "        self.strategy_source = Strategy(M, V)\n",
    "        \n",
    "        self.uncertainty = uncertainty\n",
    "        \n",
    "        self.K = 1\n",
    "        self.K_max = 5 \n",
    "        self.W = None\n",
    "        self.W_max = 25\n",
    "        \n",
    "        self.strategy = self.strategy_source.generate_strategy()\n",
    "        self.perceived_strategy = float(self.strategy)\n",
    "        \n",
    "        self.historical_aspiration = 0\n",
    "        self.social_aspiration = 0\n",
    "        self.aspiration = 0\n",
    "        \n",
    "        self.performance = self.generate_performance()\n",
    "        \n",
    "        self.consecutive_success = 0\n",
    "        self.early_success_tag = -1\n",
    "    \n",
    "    def update_capability(self, exploration=False):\n",
    "        \n",
    "        if exploration:\n",
    "            self.explore_capability = self.explore_capability + self.lr_explore * (1-self.explore_capability)\n",
    "            self.exploit_capability = float(self.initial_exploit_capability)\n",
    "        else:\n",
    "            self.explore_capability = self.explore_capability-self.fr_explore * self.explore_capability\n",
    "            self.exploit_capability = self.exploit_capability + self.lr_exploit * (1-self.exploit_capability)\n",
    "                        \n",
    "    def exploration(self, ):\n",
    "        \n",
    "        self.W = (1-self.explore_capability) * self.W_max\n",
    "        self.K = np.round(max(0, self.explore_capability * self.K_max)).astype(np.int32)\n",
    "        \n",
    "        for cur in range(self.K):\n",
    "            \n",
    "            new_strategy = self.strategy_source.generate_strategy()\n",
    "            perceived_new_strategy = new_strategy + np.random.normal(0, self.W)\n",
    "            \n",
    "            if perceived_new_strategy > self.perceived_strategy:\n",
    "                self.perceived_strategy = perceived_new_strategy\n",
    "                self.strategy = new_strategy\n",
    "        self.update_capability(exploration=True)\n",
    "        \n",
    "    def exploitation(self, ):\n",
    "        self.update_capability(exploration=False)\n",
    "    \n",
    "    def generate_performance(self, ):\n",
    "        return np.random.normal(self.exploit_capability*self.strategy, self.uncertainty/self.exploit_capability)\n",
    "        \n",
    "    def calculate_aspiration(self, reference_group_performance, time_stickness=0.5, weight=0.5,):\n",
    "        \n",
    "        self.social_aspiration = np.mean(reference_group_performance)\n",
    "        \n",
    "        if self.performance > self.social_aspiration:\n",
    "            self.consecutive_success+=1\n",
    "        else:\n",
    "            self.consecutive_success=0\n",
    "        \n",
    "        self.historical_aspiration = time_stickness*self.historical_aspiration + (1-time_stickness)*self.performance\n",
    "        \n",
    "        self.aspiration = weight * self.social_aspiration + (1-weight) * self.historical_aspiration\n",
    "        \n",
    "    def check_early_success(self, step):\n",
    "        \n",
    "        if self.early_success_tag==-1 and self.consecutive_success>=5:\n",
    "            self.early_success_tag = step\n",
    "        \n",
    "    def adaptation(self, reference_group_performance, step,):\n",
    "        \n",
    "        self.strategy_source.update_M(self.strategy_source.M+2)\n",
    "        \n",
    "        self.calculate_aspiration(reference_group_performance)\n",
    "        self.check_early_success(step)\n",
    "        \n",
    "        if self.performance < self.aspiration:\n",
    "            self.exploration()\n",
    "            self.performance = self.generate_performance()\n",
    "            \n",
    "        else:\n",
    "            self.exploitation()\n",
    "            self.performance = self.generate_performance()"
   ]
  },
  {
   "cell_type": "code",
   "execution_count": 89,
   "metadata": {},
   "outputs": [],
   "source": [
    "def simulation(repeat, agentNum, period, replace=0.02, strategy_momentum=2):\n",
    "    \n",
    "    ress_explore = []\n",
    "    ress_exploit = []\n",
    "    ress_performance = []\n",
    "    ress_early_success = []\n",
    "    \n",
    "    for r in range(repeat):\n",
    "        \n",
    "        print(r, time.asctime())\n",
    "        \n",
    "        explore_dic = defaultdict(list)\n",
    "        exploit_dic = defaultdict(list)\n",
    "        success_dic = defaultdict(int)\n",
    "        performance_dic = defaultdict(list)\n",
    "        \n",
    "        firms = []\n",
    "        \n",
    "        for cur in range(agentNum):\n",
    "            firm = Firm(cur)\n",
    "            firms.append(firm)\n",
    "            \n",
    "        for step in range(period):\n",
    "            \n",
    "            for firm_index, firm in enumerate(firms):\n",
    "                      \n",
    "                firm.adaptation([firms[cur].performance for cur in range(agentNum) if cur!=firm_index], step)\n",
    "            \n",
    "            performance_cutoff = np.percentile(np.array([firm.performance for firm in firms]), 100*replace)\n",
    "            \n",
    "            new_firms = []\n",
    "            \n",
    "            for firm in firms:\n",
    "                if firm.performance>=performance_cutoff:\n",
    "                    new_firms.append(firm)\n",
    "                else:\n",
    "                    new_firms.append(Firm(-1, M=100+2*step))\n",
    "            \n",
    "            firms = list(new_firms)\n",
    "            \n",
    "            for firm in firms:\n",
    "                if 0<=firm.idx<agentNum:\n",
    "                    \n",
    "                    explore_dic[firm.idx].append(firm.explore_capability)\n",
    "                    exploit_dic[firm.idx].append(firm.exploit_capability)\n",
    "                    performance_dic[firm.idx].append(\n",
    "                        1 if firm.performance > np.mean(\n",
    "                            [firms[cur].performance for cur in range(agentNum) if cur!=firm_index]) else 0\n",
    "                    )\n",
    "                    if firm.early_success_tag!=-1:\n",
    "                        success_dic[firm.idx]=firm.early_success_tag\n",
    "                    \n",
    "        ress_explore.append(explore_dic)\n",
    "        ress_exploit.append(exploit_dic)\n",
    "        ress_early_success.append(success_dic)\n",
    "        ress_performance.append(performance_dic)\n",
    "    return ress_explore, ress_exploit, ress_early_success, ress_performance"
   ]
  },
  {
   "cell_type": "code",
   "execution_count": 106,
   "metadata": {},
   "outputs": [
    {
     "name": "stdout",
     "output_type": "stream",
     "text": [
      "0 Mon Aug 23 11:10:45 2021\n",
      "1 Mon Aug 23 11:11:05 2021\n",
      "2 Mon Aug 23 11:11:26 2021\n",
      "3 Mon Aug 23 11:11:46 2021\n",
      "4 Mon Aug 23 11:12:07 2021\n",
      "5 Mon Aug 23 11:12:27 2021\n",
      "6 Mon Aug 23 11:12:48 2021\n",
      "7 Mon Aug 23 11:13:09 2021\n",
      "8 Mon Aug 23 11:13:30 2021\n",
      "9 Mon Aug 23 11:13:51 2021\n"
     ]
    }
   ],
   "source": [
    "explore, exploit, success, performance = simulation(10, 500, 300)"
   ]
  },
  {
   "cell_type": "code",
   "execution_count": 118,
   "metadata": {},
   "outputs": [],
   "source": [
    "group1 = []\n",
    "group2 = []\n",
    "group3 = []\n",
    "\n",
    "for r in range(10):\n",
    "    \n",
    "    inner_success = success[r]\n",
    "    \n",
    "    for k in inner_success:\n",
    "        \n",
    "        if len(explore[r][k][inner_success[k]-1:inner_success[k]+100])!=101:\n",
    "            continue\n",
    "        if 0<=inner_success[k]<20:\n",
    "            group1.append(explore[r][k][inner_success[k]-1:inner_success[k]+100])\n",
    "        elif 20<=inner_success[k]<40:\n",
    "            group2.append(explore[r][k][inner_success[k]-1:inner_success[k]+100])\n",
    "        elif 40<=inner_success[k]<60:\n",
    "            group3.append(explore[r][k][inner_success[k]-1:inner_success[k]+100])   "
   ]
  },
  {
   "cell_type": "code",
   "execution_count": 119,
   "metadata": {},
   "outputs": [
    {
     "name": "stdout",
     "output_type": "stream",
     "text": [
      "1533 607 179\n"
     ]
    }
   ],
   "source": [
    "print(len(group1), len(group2), len(group3))"
   ]
  },
  {
   "cell_type": "code",
   "execution_count": 122,
   "metadata": {},
   "outputs": [
    {
     "data": {
      "text/plain": [
       "<matplotlib.legend.Legend at 0x7f868b9894a8>"
      ]
     },
     "execution_count": 122,
     "metadata": {},
     "output_type": "execute_result"
    },
    {
     "data": {
      "image/png": "[encoded data removed]",
      "text/plain": [
       "<Figure size 432x288 with 1 Axes>"
      ]
     },
     "metadata": {
      "needs_background": "light"
     },
     "output_type": "display_data"
    }
   ],
   "source": [
    "plt.plot(np.mean(np.array(group1), axis=0), label=\"success before 20th period\")\n",
    "plt.plot(np.mean(np.array(group2), axis=0), label=\"success before 40th period\")\n",
    "plt.plot(np.mean(np.array(group3), axis=0), label=\"success before 60th period\")\n",
    "plt.legend()"
   ]
  },
  {
   "cell_type": "code",
   "execution_count": 125,
   "metadata": {},
   "outputs": [],
   "source": [
    "group1 = []\n",
    "group2 = []\n",
    "group3 = []\n",
    "\n",
    "for r in range(10):\n",
    "    \n",
    "    inner_success = success[r]\n",
    "    \n",
    "    for k in inner_success:\n",
    "        \n",
    "        if len(explore[r][k][inner_success[k]-1:inner_success[k]+100])<101:\n",
    "            continue\n",
    "        if 0<=inner_success[k]<20:\n",
    "            group1.append(performance[r][k][inner_success[k]-1:inner_success[k]+100])\n",
    "        elif 20<=inner_success[k]<40:\n",
    "            group2.append(performance[r][k][inner_success[k]-1:inner_success[k]+100])\n",
    "        elif 40<=inner_success[k]<60:\n",
    "            group3.append(performance[r][k][inner_success[k]-1:inner_success[k]+100]) "
   ]
  },
  {
   "cell_type": "code",
   "execution_count": 126,
   "metadata": {},
   "outputs": [
    {
     "data": {
      "text/plain": [
       "<matplotlib.legend.Legend at 0x7f868b1e1f28>"
      ]
     },
     "execution_count": 126,
     "metadata": {},
     "output_type": "execute_result"
    },
    {
     "data": {
      "image/png": "[encoded data removed]",
      "text/plain": [
       "<Figure size 432x288 with 1 Axes>"
      ]
     },
     "metadata": {
      "needs_background": "light"
     },
     "output_type": "display_data"
    }
   ],
   "source": [
    "plt.plot(np.mean(np.array(group1), axis=0), label=\"success before 20th period\")\n",
    "plt.plot(np.mean(np.array(group2), axis=0), label=\"success before 40th period\")\n",
    "plt.plot(np.mean(np.array(group3), axis=0), label=\"success before 60th period\")\n",
    "plt.legend()"
   ]
  },
  {
   "cell_type": "code",
   "execution_count": 128,
   "metadata": {},
   "outputs": [],
   "source": [
    "group1 = []\n",
    "group2 = []\n",
    "group3 = []\n",
    "\n",
    "for r in range(10):\n",
    "    \n",
    "    inner_success = success[r]\n",
    "    \n",
    "    for k in inner_success:\n",
    "        \n",
    "        if len(explore[r][k][inner_success[k]-1:inner_success[k]+100])<101:\n",
    "            continue\n",
    "        if 0<=inner_success[k]<20:\n",
    "            group1.append(exploit[r][k][inner_success[k]-1:inner_success[k]+100])\n",
    "        elif 20<=inner_success[k]<40:\n",
    "            group2.append(exploit[r][k][inner_success[k]-1:inner_success[k]+100])\n",
    "        elif 40<=inner_success[k]<60:\n",
    "            group3.append(exploit[r][k][inner_success[k]-1:inner_success[k]+100])  "
   ]
  },
  {
   "cell_type": "code",
   "execution_count": null,
   "metadata": {},
   "outputs": [],
   "source": []
  }
 ],
 "metadata": {
  "kernelspec": {
   "display_name": "Python 3",
   "language": "python",
   "name": "python3"
  },
  "language_info": {
   "codemirror_mode": {
    "name": "ipython",
    "version": 3
   },
   "file_extension": ".py",
   "mimetype": "text/x-python",
   "name": "python",
   "nbconvert_exporter": "python",
   "pygments_lexer": "ipython3",
   "version": "3.5.2"
  }
 },
 "nbformat": 4,
 "nbformat_minor": 2
}
